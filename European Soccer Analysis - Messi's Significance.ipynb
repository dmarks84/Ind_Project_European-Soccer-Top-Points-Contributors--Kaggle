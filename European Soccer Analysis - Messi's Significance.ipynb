{
 "cells": [
  {
   "cell_type": "markdown",
   "id": "bb304bfb",
   "metadata": {},
   "source": [
    "## European Soccer Analysis\n",
    "\n",
    "Who is the best player in Europe?  That's a tough question to answer.  If we just think about who scores the most goals, we might be weighting an impact cateogry that actually doesn't lead to team success.  Perhaps a defender, helping keep clean sheets, is in fact a \"better\" player than a striker who runs up a goal tally against weaker opponents.  So how could we measure this?\n",
    "\n",
    "One way would be to consider something like the \"Wins Above Replacement\" [WAR](https://www.mlb.com/glossary/advanced-stats/wins-above-replacement).  WAR measures a player's value in all facets of the game by deciphering how many more wins he's worth than a replacement-level player at his same position.  Another way to think about this would be to look at the average number of points a team earns (3 for a win, 1 for a draw, 0 for a loss) when a player is on the field vs. when they aren't.  For a single player, we can calculate these averages and determine if there is a statistically significant difference in these measures.  That's what we'll do here.  We'll start with the case of Lionel Messi, widely considered the best player of all time.  We can also run this analysis for all players in Europe, to whose team's on-field points average is most significnatly above their team's points average when they are not on the field.\n",
    "\n",
    "I'll be using the European Soccer Database sourced from [Kaggle/Github](https://www.kaggle.com/datasets/hugomathien/soccer).  This data is stored ina  SQLite database, so the first steps in our analysis will involve connecting to the database, runnign queries on the included tables, and creating Pandas dataframes from the data."
   ]
  },
  {
   "cell_type": "code",
   "execution_count": 1,
   "id": "591d4808",
   "metadata": {},
   "outputs": [],
   "source": [
    "# Import necessary libraries\n",
    "import sqlite3\n",
    "import pandas as pd\n",
    "import numpy as np\n",
    "import scipy\n",
    "import re"
   ]
  },
  {
   "cell_type": "code",
   "execution_count": 2,
   "id": "b082a981",
   "metadata": {},
   "outputs": [],
   "source": [
    "# Connect to the database and create a cursor to query/parse the data\n",
    "conn = sqlite3.connect('Assets/database.sqlite')\n",
    "curs = conn.cursor()"
   ]
  },
  {
   "cell_type": "markdown",
   "id": "baa4dd61",
   "metadata": {},
   "source": [
    "We've established the connection and created the cursor, and now let's check what the tables names are. "
   ]
  },
  {
   "cell_type": "code",
   "execution_count": 3,
   "id": "c036f502",
   "metadata": {
    "scrolled": true
   },
   "outputs": [
    {
     "data": {
      "text/plain": [
       "['Country',\n",
       " 'League',\n",
       " 'Match',\n",
       " 'Player',\n",
       " 'Player_Attributes',\n",
       " 'Team',\n",
       " 'Team_Attributes',\n",
       " 'sqlite_sequence']"
      ]
     },
     "execution_count": 3,
     "metadata": {},
     "output_type": "execute_result"
    }
   ],
   "source": [
    "table_query = \"\"\"SELECT name FROM SQLITE_SCHEMA\n",
    "WHERE type='table'\n",
    "ORDER BY name;\"\"\"\n",
    "tables = [table[0] for table in curs.execute(table_query).fetchall()]\n",
    "tables"
   ]
  },
  {
   "cell_type": "markdown",
   "id": "8bbb1d8c",
   "metadata": {},
   "source": [
    "Now we can see what type of information is included in each table.  We'll cycle through the tables and pull out the columns using the .description method."
   ]
  },
  {
   "cell_type": "code",
   "execution_count": 4,
   "id": "110b0786",
   "metadata": {},
   "outputs": [],
   "source": [
    "table_columns = {}\n",
    "for table in tables:\n",
    "    table_columns[table] = [col[0] for col in curs.execute(f'SELECT * FROM {table}').description]"
   ]
  },
  {
   "cell_type": "markdown",
   "id": "bd31d37e",
   "metadata": {},
   "source": [
    "Next we'll create  dictionary of dataframes for each table.  We won't work with all the tables, but we'll have them at our disposal."
   ]
  },
  {
   "cell_type": "code",
   "execution_count": 5,
   "id": "8d1fdb31",
   "metadata": {},
   "outputs": [],
   "source": [
    "dfs = {}\n",
    "for table in tables:\n",
    "    query = f'SELECT * FROM {table};'\n",
    "    table_table = curs.execute(query).fetchall()\n",
    "    dfs[table] = pd.DataFrame(table_table, columns=table_columns[table])"
   ]
  },
  {
   "cell_type": "markdown",
   "id": "015f409d",
   "metadata": {},
   "source": [
    "Having pulled out all the data and stored it locally-- it's a lot, but not too much-- we'll close our connection and release the db."
   ]
  },
  {
   "cell_type": "code",
   "execution_count": 6,
   "id": "38dd4143",
   "metadata": {},
   "outputs": [],
   "source": [
    "conn.close()"
   ]
  },
  {
   "cell_type": "markdown",
   "id": "d819dd77",
   "metadata": {},
   "source": [
    "Let's check how many instances are in each dataframe, and list out the number of features in each as well."
   ]
  },
  {
   "cell_type": "code",
   "execution_count": 7,
   "id": "12e7e6b7",
   "metadata": {},
   "outputs": [
    {
     "name": "stdout",
     "output_type": "stream",
     "text": [
      "Country (11, 2)\n",
      "League (11, 3)\n",
      "Match (25979, 115)\n",
      "Player (11060, 7)\n",
      "Player_Attributes (183978, 42)\n",
      "Team (299, 5)\n",
      "Team_Attributes (1458, 25)\n",
      "sqlite_sequence (7, 2)\n"
     ]
    }
   ],
   "source": [
    "for idx in range(len(tables)):\n",
    "    print(tables[idx],dfs[tables[idx]].shape)"
   ]
  },
  {
   "cell_type": "markdown",
   "id": "e2881876",
   "metadata": {},
   "source": [
    "We're going to look at all games from any country and any league, so parsing those tables will be unecessary.  We will need information from the Match, Player, and Team tables, so let's check on the type of data included in each."
   ]
  },
  {
   "cell_type": "code",
   "execution_count": 8,
   "id": "5f68c9ef",
   "metadata": {},
   "outputs": [],
   "source": [
    "matches_df = dfs['Match']"
   ]
  },
  {
   "cell_type": "code",
   "execution_count": 9,
   "id": "e779e5b9",
   "metadata": {},
   "outputs": [
    {
     "data": {
      "text/plain": [
       "float64    96\n",
       "object     10\n",
       "int64       9\n",
       "dtype: int64"
      ]
     },
     "execution_count": 9,
     "metadata": {},
     "output_type": "execute_result"
    }
   ],
   "source": [
    "matches_df.dtypes.value_counts()"
   ]
  },
  {
   "cell_type": "markdown",
   "id": "9534dff7",
   "metadata": {},
   "source": [
    "We've got mostly numeric values, but there are 10 objects/strings.  Let's see which features those are:"
   ]
  },
  {
   "cell_type": "code",
   "execution_count": 10,
   "id": "025a1466",
   "metadata": {},
   "outputs": [
    {
     "data": {
      "text/plain": [
       "Index(['season', 'date', 'goal', 'shoton', 'shotoff', 'foulcommit', 'card',\n",
       "       'cross', 'corner', 'possession'],\n",
       "      dtype='object')"
      ]
     },
     "execution_count": 10,
     "metadata": {},
     "output_type": "execute_result"
    }
   ],
   "source": [
    "cols_objs = matches_df.select_dtypes('object').columns\n",
    "cols_objs"
   ]
  },
  {
   "cell_type": "markdown",
   "id": "f51bd253",
   "metadata": {},
   "source": [
    "Interesting that goal, shoton, etc. are not numeric. Let's look at one exampel entry:"
   ]
  },
  {
   "cell_type": "code",
   "execution_count": 11,
   "id": "77e6f203",
   "metadata": {},
   "outputs": [
    {
     "data": {
      "text/plain": [
       "'<goal><value><comment>n</comment><stats><goals>1</goals><shoton>1</shoton></stats><event_incident_typefk>71</event_incident_typefk><elapsed>28</elapsed><player1>79253</player1><sortorder>0</sortorder><team>8529</team><id>3227996</id><n>19</n><type>goal</type><goal_type>n</goal_type></value><value><comment>n</comment><stats><goals>1</goals><shoton>1</shoton></stats><event_incident_typefk>71</event_incident_typefk><elapsed>87</elapsed><player1>108808</player1><sortorder>0</sortorder><team>8564</team><id>3228148</id><n>22</n><type>goal</type><goal_type>n</goal_type></value><value><comment>n</comment><stats><goals>1</goals><shoton>1</shoton></stats><event_incident_typefk>71</event_incident_typefk><elapsed>89</elapsed><player1>24549</player1><sortorder>0</sortorder><team>8564</team><id>3228153</id><n>24</n><type>goal</type><goal_type>n</goal_type></value></goal>'"
      ]
     },
     "execution_count": 11,
     "metadata": {},
     "output_type": "execute_result"
    }
   ],
   "source": [
    "matches_df.loc[:,cols_objs]['goal'].value_counts().index[1]"
   ]
  },
  {
   "cell_type": "markdown",
   "id": "94d8c95e",
   "metadata": {},
   "source": [
    "Ok, so some of this information is either not inputted very well or won't be easy to work with.  Thinking about this more broadly, what we want to know is essentially the score for each team and who started the game.  We don't have substitute information readily available, so we'll have to confine our analysis slightly.  **We are going to look at only if a player started the match as an indiation of if they were on the field.**  From the object info then, we'll only care about the season and date information.  We aren't likely to use the date info, but season will be important."
   ]
  },
  {
   "cell_type": "code",
   "execution_count": 12,
   "id": "0e89b3d8",
   "metadata": {},
   "outputs": [],
   "source": [
    "cols_keep = []\n",
    "cols_objs_keep = ['season','date']\n",
    "cols_keep.extend(cols_objs_keep)"
   ]
  },
  {
   "cell_type": "markdown",
   "id": "cbd0c43d",
   "metadata": {},
   "source": [
    "Now let's check a few of the numeric features, starting with integers:"
   ]
  },
  {
   "cell_type": "code",
   "execution_count": 13,
   "id": "9873ae9e",
   "metadata": {},
   "outputs": [
    {
     "data": {
      "text/plain": [
       "Index(['id', 'country_id', 'league_id', 'stage', 'match_api_id',\n",
       "       'home_team_api_id', 'away_team_api_id', 'home_team_goal',\n",
       "       'away_team_goal'],\n",
       "      dtype='object')"
      ]
     },
     "execution_count": 13,
     "metadata": {},
     "output_type": "execute_result"
    }
   ],
   "source": [
    "cols_ints = matches_df.select_dtypes('int64').columns\n",
    "cols_ints"
   ]
  },
  {
   "cell_type": "code",
   "execution_count": 14,
   "id": "6cf9b097",
   "metadata": {},
   "outputs": [
    {
     "data": {
      "text/html": [
       "<div>\n",
       "<style scoped>\n",
       "    .dataframe tbody tr th:only-of-type {\n",
       "        vertical-align: middle;\n",
       "    }\n",
       "\n",
       "    .dataframe tbody tr th {\n",
       "        vertical-align: top;\n",
       "    }\n",
       "\n",
       "    .dataframe thead th {\n",
       "        text-align: right;\n",
       "    }\n",
       "</style>\n",
       "<table border=\"1\" class=\"dataframe\">\n",
       "  <thead>\n",
       "    <tr style=\"text-align: right;\">\n",
       "      <th></th>\n",
       "      <th>id</th>\n",
       "      <th>country_id</th>\n",
       "      <th>league_id</th>\n",
       "      <th>stage</th>\n",
       "      <th>match_api_id</th>\n",
       "      <th>home_team_api_id</th>\n",
       "      <th>away_team_api_id</th>\n",
       "      <th>home_team_goal</th>\n",
       "      <th>away_team_goal</th>\n",
       "    </tr>\n",
       "  </thead>\n",
       "  <tbody>\n",
       "    <tr>\n",
       "      <th>0</th>\n",
       "      <td>1</td>\n",
       "      <td>1</td>\n",
       "      <td>1</td>\n",
       "      <td>1</td>\n",
       "      <td>492473</td>\n",
       "      <td>9987</td>\n",
       "      <td>9993</td>\n",
       "      <td>1</td>\n",
       "      <td>1</td>\n",
       "    </tr>\n",
       "    <tr>\n",
       "      <th>1</th>\n",
       "      <td>2</td>\n",
       "      <td>1</td>\n",
       "      <td>1</td>\n",
       "      <td>1</td>\n",
       "      <td>492474</td>\n",
       "      <td>10000</td>\n",
       "      <td>9994</td>\n",
       "      <td>0</td>\n",
       "      <td>0</td>\n",
       "    </tr>\n",
       "    <tr>\n",
       "      <th>2</th>\n",
       "      <td>3</td>\n",
       "      <td>1</td>\n",
       "      <td>1</td>\n",
       "      <td>1</td>\n",
       "      <td>492475</td>\n",
       "      <td>9984</td>\n",
       "      <td>8635</td>\n",
       "      <td>0</td>\n",
       "      <td>3</td>\n",
       "    </tr>\n",
       "    <tr>\n",
       "      <th>3</th>\n",
       "      <td>4</td>\n",
       "      <td>1</td>\n",
       "      <td>1</td>\n",
       "      <td>1</td>\n",
       "      <td>492476</td>\n",
       "      <td>9991</td>\n",
       "      <td>9998</td>\n",
       "      <td>5</td>\n",
       "      <td>0</td>\n",
       "    </tr>\n",
       "    <tr>\n",
       "      <th>4</th>\n",
       "      <td>5</td>\n",
       "      <td>1</td>\n",
       "      <td>1</td>\n",
       "      <td>1</td>\n",
       "      <td>492477</td>\n",
       "      <td>7947</td>\n",
       "      <td>9985</td>\n",
       "      <td>1</td>\n",
       "      <td>3</td>\n",
       "    </tr>\n",
       "  </tbody>\n",
       "</table>\n",
       "</div>"
      ],
      "text/plain": [
       "   id  country_id  league_id  stage  match_api_id  home_team_api_id  \\\n",
       "0   1           1          1      1        492473              9987   \n",
       "1   2           1          1      1        492474             10000   \n",
       "2   3           1          1      1        492475              9984   \n",
       "3   4           1          1      1        492476              9991   \n",
       "4   5           1          1      1        492477              7947   \n",
       "\n",
       "   away_team_api_id  home_team_goal  away_team_goal  \n",
       "0              9993               1               1  \n",
       "1              9994               0               0  \n",
       "2              8635               0               3  \n",
       "3              9998               5               0  \n",
       "4              9985               1               3  "
      ]
     },
     "execution_count": 14,
     "metadata": {},
     "output_type": "execute_result"
    }
   ],
   "source": [
    "matches_df.loc[:,cols_ints].head()"
   ]
  },
  {
   "cell_type": "markdown",
   "id": "e7f0daa1",
   "metadata": {},
   "source": [
    "We care about the teams playing and the score, we we'll keep categories associated with that info (`home_team_api_id`, `away_team_api_id`, `home_team_goal`,`away_team_goal`).  We'll also keep the `match_api_id` as a way to index the matches and sort them later."
   ]
  },
  {
   "cell_type": "markdown",
   "id": "97db47ef",
   "metadata": {},
   "source": [
    "None are missing so we can cull our category list."
   ]
  },
  {
   "cell_type": "code",
   "execution_count": 15,
   "id": "6563f13c",
   "metadata": {},
   "outputs": [],
   "source": [
    "cols_ints_keep = list(cols_ints)\n",
    "cols_ints_keep.pop(0)\n",
    "cols_ints_keep.pop(0)\n",
    "cols_ints_keep.pop(0)\n",
    "cols_ints_keep.pop(0)\n",
    "cols_keep.extend(cols_ints_keep)"
   ]
  },
  {
   "cell_type": "code",
   "execution_count": 16,
   "id": "d1107537",
   "metadata": {},
   "outputs": [
    {
     "data": {
      "text/plain": [
       "['match_api_id',\n",
       " 'home_team_api_id',\n",
       " 'away_team_api_id',\n",
       " 'home_team_goal',\n",
       " 'away_team_goal']"
      ]
     },
     "execution_count": 16,
     "metadata": {},
     "output_type": "execute_result"
    }
   ],
   "source": [
    "cols_ints_keep"
   ]
  },
  {
   "cell_type": "markdown",
   "id": "04c130d1",
   "metadata": {},
   "source": [
    "Alright, onto floats:"
   ]
  },
  {
   "cell_type": "code",
   "execution_count": 17,
   "id": "5169fa43",
   "metadata": {},
   "outputs": [
    {
     "data": {
      "text/plain": [
       "Index(['home_player_X1', 'home_player_X2', 'home_player_X3', 'home_player_X4',\n",
       "       'home_player_X5', 'home_player_X6', 'home_player_X7', 'home_player_X8',\n",
       "       'home_player_X9', 'home_player_X10', 'home_player_X11',\n",
       "       'away_player_X1', 'away_player_X2', 'away_player_X3', 'away_player_X4',\n",
       "       'away_player_X5', 'away_player_X6', 'away_player_X7', 'away_player_X8',\n",
       "       'away_player_X9', 'away_player_X10', 'away_player_X11',\n",
       "       'home_player_Y1', 'home_player_Y2', 'home_player_Y3', 'home_player_Y4',\n",
       "       'home_player_Y5', 'home_player_Y6', 'home_player_Y7', 'home_player_Y8',\n",
       "       'home_player_Y9', 'home_player_Y10', 'home_player_Y11',\n",
       "       'away_player_Y1', 'away_player_Y2', 'away_player_Y3', 'away_player_Y4',\n",
       "       'away_player_Y5', 'away_player_Y6', 'away_player_Y7', 'away_player_Y8',\n",
       "       'away_player_Y9', 'away_player_Y10', 'away_player_Y11', 'home_player_1',\n",
       "       'home_player_2', 'home_player_3', 'home_player_4', 'home_player_5',\n",
       "       'home_player_6', 'home_player_7', 'home_player_8', 'home_player_9',\n",
       "       'home_player_10', 'home_player_11', 'away_player_1', 'away_player_2',\n",
       "       'away_player_3', 'away_player_4', 'away_player_5', 'away_player_6',\n",
       "       'away_player_7', 'away_player_8', 'away_player_9', 'away_player_10',\n",
       "       'away_player_11', 'B365H', 'B365D', 'B365A', 'BWH', 'BWD', 'BWA', 'IWH',\n",
       "       'IWD', 'IWA', 'LBH', 'LBD', 'LBA', 'PSH', 'PSD', 'PSA', 'WHH', 'WHD',\n",
       "       'WHA', 'SJH', 'SJD', 'SJA', 'VCH', 'VCD', 'VCA', 'GBH', 'GBD', 'GBA',\n",
       "       'BSH', 'BSD', 'BSA'],\n",
       "      dtype='object')"
      ]
     },
     "execution_count": 17,
     "metadata": {},
     "output_type": "execute_result"
    }
   ],
   "source": [
    "cols_flts = matches_df.select_dtypes('float').columns\n",
    "cols_flts"
   ]
  },
  {
   "cell_type": "markdown",
   "id": "b5c03841",
   "metadata": {},
   "source": [
    "We want to know who is playing, and that appears to be what we have in these categories.  We also have odds from the oddsmakers, which we don't care about for this analyssis.  So, let's keep all the columns that mention player.  But, we'll leave out the X and Y referenced players since that apparently identifies their position on the field, which again is not part of this analysis."
   ]
  },
  {
   "cell_type": "code",
   "execution_count": 18,
   "id": "5bbb41c5",
   "metadata": {},
   "outputs": [],
   "source": [
    "cols_flts_keep = []\n",
    "for col in cols_flts:\n",
    "    regexp = re.compile(r'.+player_[^XY]+')\n",
    "    if regexp.search(col):\n",
    "        cols_flts_keep.append(col)    "
   ]
  },
  {
   "cell_type": "code",
   "execution_count": 19,
   "id": "a5801128",
   "metadata": {},
   "outputs": [],
   "source": [
    "cols_keep.extend(cols_flts_keep)"
   ]
  },
  {
   "cell_type": "markdown",
   "id": "2e389f86",
   "metadata": {},
   "source": [
    "From the categories we wanted to keep, we'll reduce our Match dataframe to only those categories."
   ]
  },
  {
   "cell_type": "code",
   "execution_count": 20,
   "id": "948fc6cd",
   "metadata": {},
   "outputs": [
    {
     "name": "stdout",
     "output_type": "stream",
     "text": [
      "Index(['season', 'date', 'match_api_id', 'home_team_api_id',\n",
      "       'away_team_api_id', 'home_team_goal', 'away_team_goal', 'home_player_1',\n",
      "       'home_player_2', 'home_player_3', 'home_player_4', 'home_player_5',\n",
      "       'home_player_6', 'home_player_7', 'home_player_8', 'home_player_9',\n",
      "       'home_player_10', 'home_player_11', 'away_player_1', 'away_player_2',\n",
      "       'away_player_3', 'away_player_4', 'away_player_5', 'away_player_6',\n",
      "       'away_player_7', 'away_player_8', 'away_player_9', 'away_player_10',\n",
      "       'away_player_11'],\n",
      "      dtype='object')\n"
     ]
    }
   ],
   "source": [
    "matches_df = matches_df.loc[:,cols_keep]\n",
    "print(matches_df.columns)\n",
    "matches_df.set_index('match_api_id', inplace=True)"
   ]
  },
  {
   "cell_type": "markdown",
   "id": "e5999d94",
   "metadata": {},
   "source": [
    "Let's now drop out any instances that have missing data, and we'll see how many matches we lose due to missing data."
   ]
  },
  {
   "cell_type": "code",
   "execution_count": 21,
   "id": "020892eb",
   "metadata": {},
   "outputs": [
    {
     "name": "stdout",
     "output_type": "stream",
     "text": [
      "Number of matches in full dataset: 25979\n",
      "Number of matches with full starting player info: 21374\n",
      "We lost 4605, (17.7%)\n"
     ]
    }
   ],
   "source": [
    "before_no_matches = matches_df.shape[0]\n",
    "print('Number of matches in full dataset:',before_no_matches)\n",
    "matches_df.dropna(inplace=True)\n",
    "after_no_matches = matches_df.shape[0]\n",
    "print('Number of matches with full starting player info:',after_no_matches)\n",
    "lost_no_matches = before_no_matches - after_no_matches\n",
    "print(f'We lost {lost_no_matches}, ({round(lost_no_matches/before_no_matches*100,1)}%)')"
   ]
  },
  {
   "cell_type": "markdown",
   "id": "c02df3ed",
   "metadata": {},
   "source": [
    "We lost nearly 18%, but we still have a very large number of instances/matches to work with-- more than 21,300."
   ]
  },
  {
   "cell_type": "markdown",
   "id": "482320c7",
   "metadata": {},
   "source": [
    "### Question 1: Is Lionel Messi's team significantly more likely to win when we starts for his team?"
   ]
  },
  {
   "cell_type": "markdown",
   "id": "a3968135",
   "metadata": {},
   "source": [
    "We'll focus on one player to start.  Lionel Messi is a superstar in Europe, winning every major trophy possible for club and country at this point.  He's won multiple Ballon'dOros and is arguably the greatest player in history.  But how much better is his club when he starts when he doesn't?  Let's work a bit with our dataframes for Players and Teams to make sure the data makes sense, and then we'll start to pull out statistics."
   ]
  },
  {
   "cell_type": "code",
   "execution_count": 22,
   "id": "9bcf53bf",
   "metadata": {},
   "outputs": [],
   "source": [
    "players_df = dfs['Player']\n",
    "teams_df = dfs['Team']"
   ]
  },
  {
   "cell_type": "code",
   "execution_count": 23,
   "id": "63154d84",
   "metadata": {},
   "outputs": [
    {
     "data": {
      "text/html": [
       "<div>\n",
       "<style scoped>\n",
       "    .dataframe tbody tr th:only-of-type {\n",
       "        vertical-align: middle;\n",
       "    }\n",
       "\n",
       "    .dataframe tbody tr th {\n",
       "        vertical-align: top;\n",
       "    }\n",
       "\n",
       "    .dataframe thead th {\n",
       "        text-align: right;\n",
       "    }\n",
       "</style>\n",
       "<table border=\"1\" class=\"dataframe\">\n",
       "  <thead>\n",
       "    <tr style=\"text-align: right;\">\n",
       "      <th></th>\n",
       "      <th>id</th>\n",
       "      <th>team_api_id</th>\n",
       "      <th>team_fifa_api_id</th>\n",
       "      <th>team_long_name</th>\n",
       "      <th>team_short_name</th>\n",
       "    </tr>\n",
       "  </thead>\n",
       "  <tbody>\n",
       "    <tr>\n",
       "      <th>0</th>\n",
       "      <td>1</td>\n",
       "      <td>9987</td>\n",
       "      <td>673.0</td>\n",
       "      <td>KRC Genk</td>\n",
       "      <td>GEN</td>\n",
       "    </tr>\n",
       "    <tr>\n",
       "      <th>1</th>\n",
       "      <td>2</td>\n",
       "      <td>9993</td>\n",
       "      <td>675.0</td>\n",
       "      <td>Beerschot AC</td>\n",
       "      <td>BAC</td>\n",
       "    </tr>\n",
       "    <tr>\n",
       "      <th>2</th>\n",
       "      <td>3</td>\n",
       "      <td>10000</td>\n",
       "      <td>15005.0</td>\n",
       "      <td>SV Zulte-Waregem</td>\n",
       "      <td>ZUL</td>\n",
       "    </tr>\n",
       "    <tr>\n",
       "      <th>3</th>\n",
       "      <td>4</td>\n",
       "      <td>9994</td>\n",
       "      <td>2007.0</td>\n",
       "      <td>Sporting Lokeren</td>\n",
       "      <td>LOK</td>\n",
       "    </tr>\n",
       "    <tr>\n",
       "      <th>4</th>\n",
       "      <td>5</td>\n",
       "      <td>9984</td>\n",
       "      <td>1750.0</td>\n",
       "      <td>KSV Cercle Brugge</td>\n",
       "      <td>CEB</td>\n",
       "    </tr>\n",
       "  </tbody>\n",
       "</table>\n",
       "</div>"
      ],
      "text/plain": [
       "   id  team_api_id  team_fifa_api_id     team_long_name team_short_name\n",
       "0   1         9987             673.0           KRC Genk             GEN\n",
       "1   2         9993             675.0       Beerschot AC             BAC\n",
       "2   3        10000           15005.0   SV Zulte-Waregem             ZUL\n",
       "3   4         9994            2007.0   Sporting Lokeren             LOK\n",
       "4   5         9984            1750.0  KSV Cercle Brugge             CEB"
      ]
     },
     "execution_count": 23,
     "metadata": {},
     "output_type": "execute_result"
    }
   ],
   "source": [
    "teams_df.head()"
   ]
  },
  {
   "cell_type": "markdown",
   "id": "a410b24e",
   "metadata": {},
   "source": [
    "We have two team id's-- one is for FIFA and one is unidentified.  Reading the docs, it seems like `team_api_id` is the one used by the match dataset to identify the teams playing.  But we can verify by pulling out the unique ids for the two team api options and seeing if any of those are missing from the match dataset."
   ]
  },
  {
   "cell_type": "code",
   "execution_count": 24,
   "id": "dc241b73",
   "metadata": {},
   "outputs": [
    {
     "name": "stdout",
     "output_type": "stream",
     "text": [
      "Number of home_team_api_ids in matches without matching id in player_api_id: 0\n",
      "Number of home_team_api_ids in matches without matching id in player_fifa_api_id: 21374\n"
     ]
    }
   ],
   "source": [
    "hts = [idx[0] for idx in list(matches_df['home_team_api_id'].to_frame().values)]\n",
    "team_api = list(teams_df['team_api_id'].values)\n",
    "team_fifa = list(teams_df['team_fifa_api_id'].values)\n",
    "api_count = 0\n",
    "fifa_count = 0\n",
    "for ht in hts:\n",
    "    if ht not in team_api:\n",
    "        api_count += 1\n",
    "    if ht not in team_fifa:\n",
    "        fifa_count += 1\n",
    "print('Number of home_team_api_ids in matches without matching id in player_api_id:',api_count)\n",
    "print('Number of home_team_api_ids in matches without matching id in player_fifa_api_id:',fifa_count)"
   ]
  },
  {
   "cell_type": "markdown",
   "id": "4682d5e8",
   "metadata": {},
   "source": [
    "As suspected, the FIFA api id is misisng from (all) the match dataset, so the team api that connects to the match dataset (`home_team_api_id` and `away_team_api_id`) is `team_api_id`."
   ]
  },
  {
   "cell_type": "code",
   "execution_count": 25,
   "id": "f22d36aa",
   "metadata": {},
   "outputs": [],
   "source": [
    "teams_cols_keep = ['team_api_id','team_long_name']\n",
    "teams_df = teams_df.loc[:,teams_cols_keep]\n",
    "teams_df.set_index('team_api_id',inplace=True)"
   ]
  },
  {
   "cell_type": "code",
   "execution_count": 26,
   "id": "5ce730cb",
   "metadata": {},
   "outputs": [
    {
     "data": {
      "text/html": [
       "<div>\n",
       "<style scoped>\n",
       "    .dataframe tbody tr th:only-of-type {\n",
       "        vertical-align: middle;\n",
       "    }\n",
       "\n",
       "    .dataframe tbody tr th {\n",
       "        vertical-align: top;\n",
       "    }\n",
       "\n",
       "    .dataframe thead th {\n",
       "        text-align: right;\n",
       "    }\n",
       "</style>\n",
       "<table border=\"1\" class=\"dataframe\">\n",
       "  <thead>\n",
       "    <tr style=\"text-align: right;\">\n",
       "      <th></th>\n",
       "      <th>team_long_name</th>\n",
       "    </tr>\n",
       "    <tr>\n",
       "      <th>team_api_id</th>\n",
       "      <th></th>\n",
       "    </tr>\n",
       "  </thead>\n",
       "  <tbody>\n",
       "    <tr>\n",
       "      <th>9987</th>\n",
       "      <td>KRC Genk</td>\n",
       "    </tr>\n",
       "    <tr>\n",
       "      <th>9993</th>\n",
       "      <td>Beerschot AC</td>\n",
       "    </tr>\n",
       "    <tr>\n",
       "      <th>10000</th>\n",
       "      <td>SV Zulte-Waregem</td>\n",
       "    </tr>\n",
       "    <tr>\n",
       "      <th>9994</th>\n",
       "      <td>Sporting Lokeren</td>\n",
       "    </tr>\n",
       "    <tr>\n",
       "      <th>9984</th>\n",
       "      <td>KSV Cercle Brugge</td>\n",
       "    </tr>\n",
       "  </tbody>\n",
       "</table>\n",
       "</div>"
      ],
      "text/plain": [
       "                team_long_name\n",
       "team_api_id                   \n",
       "9987                  KRC Genk\n",
       "9993              Beerschot AC\n",
       "10000         SV Zulte-Waregem\n",
       "9994          Sporting Lokeren\n",
       "9984         KSV Cercle Brugge"
      ]
     },
     "execution_count": 26,
     "metadata": {},
     "output_type": "execute_result"
    }
   ],
   "source": [
    "teams_df.head()"
   ]
  },
  {
   "cell_type": "markdown",
   "id": "58147cb9",
   "metadata": {},
   "source": [
    "We'll make the same check for players, as there are two api id's in the player dataset.  We'll check both the away and home players."
   ]
  },
  {
   "cell_type": "code",
   "execution_count": 27,
   "id": "ff65168d",
   "metadata": {},
   "outputs": [
    {
     "data": {
      "text/html": [
       "<div>\n",
       "<style scoped>\n",
       "    .dataframe tbody tr th:only-of-type {\n",
       "        vertical-align: middle;\n",
       "    }\n",
       "\n",
       "    .dataframe tbody tr th {\n",
       "        vertical-align: top;\n",
       "    }\n",
       "\n",
       "    .dataframe thead th {\n",
       "        text-align: right;\n",
       "    }\n",
       "</style>\n",
       "<table border=\"1\" class=\"dataframe\">\n",
       "  <thead>\n",
       "    <tr style=\"text-align: right;\">\n",
       "      <th></th>\n",
       "      <th>id</th>\n",
       "      <th>player_api_id</th>\n",
       "      <th>player_name</th>\n",
       "      <th>player_fifa_api_id</th>\n",
       "      <th>birthday</th>\n",
       "      <th>height</th>\n",
       "      <th>weight</th>\n",
       "    </tr>\n",
       "  </thead>\n",
       "  <tbody>\n",
       "    <tr>\n",
       "      <th>0</th>\n",
       "      <td>1</td>\n",
       "      <td>505942</td>\n",
       "      <td>Aaron Appindangoye</td>\n",
       "      <td>218353</td>\n",
       "      <td>1992-02-29 00:00:00</td>\n",
       "      <td>182.88</td>\n",
       "      <td>187</td>\n",
       "    </tr>\n",
       "    <tr>\n",
       "      <th>1</th>\n",
       "      <td>2</td>\n",
       "      <td>155782</td>\n",
       "      <td>Aaron Cresswell</td>\n",
       "      <td>189615</td>\n",
       "      <td>1989-12-15 00:00:00</td>\n",
       "      <td>170.18</td>\n",
       "      <td>146</td>\n",
       "    </tr>\n",
       "    <tr>\n",
       "      <th>2</th>\n",
       "      <td>3</td>\n",
       "      <td>162549</td>\n",
       "      <td>Aaron Doran</td>\n",
       "      <td>186170</td>\n",
       "      <td>1991-05-13 00:00:00</td>\n",
       "      <td>170.18</td>\n",
       "      <td>163</td>\n",
       "    </tr>\n",
       "    <tr>\n",
       "      <th>3</th>\n",
       "      <td>4</td>\n",
       "      <td>30572</td>\n",
       "      <td>Aaron Galindo</td>\n",
       "      <td>140161</td>\n",
       "      <td>1982-05-08 00:00:00</td>\n",
       "      <td>182.88</td>\n",
       "      <td>198</td>\n",
       "    </tr>\n",
       "    <tr>\n",
       "      <th>4</th>\n",
       "      <td>5</td>\n",
       "      <td>23780</td>\n",
       "      <td>Aaron Hughes</td>\n",
       "      <td>17725</td>\n",
       "      <td>1979-11-08 00:00:00</td>\n",
       "      <td>182.88</td>\n",
       "      <td>154</td>\n",
       "    </tr>\n",
       "  </tbody>\n",
       "</table>\n",
       "</div>"
      ],
      "text/plain": [
       "   id  player_api_id         player_name  player_fifa_api_id  \\\n",
       "0   1         505942  Aaron Appindangoye              218353   \n",
       "1   2         155782     Aaron Cresswell              189615   \n",
       "2   3         162549         Aaron Doran              186170   \n",
       "3   4          30572       Aaron Galindo              140161   \n",
       "4   5          23780        Aaron Hughes               17725   \n",
       "\n",
       "              birthday  height  weight  \n",
       "0  1992-02-29 00:00:00  182.88     187  \n",
       "1  1989-12-15 00:00:00  170.18     146  \n",
       "2  1991-05-13 00:00:00  170.18     163  \n",
       "3  1982-05-08 00:00:00  182.88     198  \n",
       "4  1979-11-08 00:00:00  182.88     154  "
      ]
     },
     "execution_count": 27,
     "metadata": {},
     "output_type": "execute_result"
    }
   ],
   "source": [
    "players_df.head()"
   ]
  },
  {
   "cell_type": "code",
   "execution_count": 28,
   "id": "d8c565af",
   "metadata": {},
   "outputs": [
    {
     "name": "stdout",
     "output_type": "stream",
     "text": [
      "Number of home_player_1s in matches without matching id in player_api_id: 0\n",
      "Number of home_player_1s in matches without matching id in player_fifa_api_id: 945\n"
     ]
    }
   ],
   "source": [
    "hp1 = [idx[0] for idx in list(matches_df['home_player_1'].to_frame().values)]\n",
    "player_api = list(players_df['player_api_id'].values)\n",
    "player_fifa = list(players_df['player_fifa_api_id'].values)\n",
    "api_count = 0\n",
    "fifa_count = 0\n",
    "for hp in hp1[:1000]:\n",
    "    if hp not in player_api:\n",
    "        api_count += 1\n",
    "    if hp not in player_fifa:\n",
    "        fifa_count += 1\n",
    "print('Number of home_player_1s in matches without matching id in player_api_id:',api_count)\n",
    "print('Number of home_player_1s in matches without matching id in player_fifa_api_id:',fifa_count)"
   ]
  },
  {
   "cell_type": "code",
   "execution_count": 29,
   "id": "c625ff0a",
   "metadata": {},
   "outputs": [
    {
     "name": "stdout",
     "output_type": "stream",
     "text": [
      "Number of away_player_1s in matches without matching id in player_api_id: 0\n",
      "Number of away_player_1s in matches without matching id in player_fifa_api_id: 946\n"
     ]
    }
   ],
   "source": [
    "ap1 = [idx[0] for idx in list(matches_df['away_player_1'].to_frame().values)]\n",
    "player_api = list(players_df['player_api_id'].values)\n",
    "player_fifa = list(players_df['player_fifa_api_id'].values)\n",
    "api_count = 0\n",
    "fifa_count = 0\n",
    "for ap in ap1[:1000]:\n",
    "    if ap not in player_api:\n",
    "        api_count += 1\n",
    "    if ap not in player_fifa:\n",
    "        fifa_count += 1\n",
    "print('Number of away_player_1s in matches without matching id in player_api_id:',api_count)\n",
    "print('Number of away_player_1s in matches without matching id in player_fifa_api_id:',fifa_count)"
   ]
  },
  {
   "cell_type": "markdown",
   "id": "654925f8",
   "metadata": {},
   "source": [
    "In both cases, we are NOT going to use the FIFA api for player id as it is the only one with missing id's from the match dataset."
   ]
  },
  {
   "cell_type": "code",
   "execution_count": 30,
   "id": "ba84c505",
   "metadata": {},
   "outputs": [],
   "source": [
    "players_cols_keep = ['player_api_id','player_name']\n",
    "players_df = players_df.loc[:,players_cols_keep]\n",
    "players_df.set_index('player_api_id', inplace=True)"
   ]
  },
  {
   "cell_type": "code",
   "execution_count": 31,
   "id": "96679a2f",
   "metadata": {},
   "outputs": [
    {
     "data": {
      "text/html": [
       "<div>\n",
       "<style scoped>\n",
       "    .dataframe tbody tr th:only-of-type {\n",
       "        vertical-align: middle;\n",
       "    }\n",
       "\n",
       "    .dataframe tbody tr th {\n",
       "        vertical-align: top;\n",
       "    }\n",
       "\n",
       "    .dataframe thead th {\n",
       "        text-align: right;\n",
       "    }\n",
       "</style>\n",
       "<table border=\"1\" class=\"dataframe\">\n",
       "  <thead>\n",
       "    <tr style=\"text-align: right;\">\n",
       "      <th></th>\n",
       "      <th>player_name</th>\n",
       "    </tr>\n",
       "    <tr>\n",
       "      <th>player_api_id</th>\n",
       "      <th></th>\n",
       "    </tr>\n",
       "  </thead>\n",
       "  <tbody>\n",
       "    <tr>\n",
       "      <th>505942</th>\n",
       "      <td>Aaron Appindangoye</td>\n",
       "    </tr>\n",
       "    <tr>\n",
       "      <th>155782</th>\n",
       "      <td>Aaron Cresswell</td>\n",
       "    </tr>\n",
       "    <tr>\n",
       "      <th>162549</th>\n",
       "      <td>Aaron Doran</td>\n",
       "    </tr>\n",
       "    <tr>\n",
       "      <th>30572</th>\n",
       "      <td>Aaron Galindo</td>\n",
       "    </tr>\n",
       "    <tr>\n",
       "      <th>23780</th>\n",
       "      <td>Aaron Hughes</td>\n",
       "    </tr>\n",
       "  </tbody>\n",
       "</table>\n",
       "</div>"
      ],
      "text/plain": [
       "                      player_name\n",
       "player_api_id                    \n",
       "505942         Aaron Appindangoye\n",
       "155782            Aaron Cresswell\n",
       "162549                Aaron Doran\n",
       "30572               Aaron Galindo\n",
       "23780                Aaron Hughes"
      ]
     },
     "execution_count": 31,
     "metadata": {},
     "output_type": "execute_result"
    }
   ],
   "source": [
    "players_df.head()"
   ]
  },
  {
   "cell_type": "markdown",
   "id": "ff8c75bf",
   "metadata": {},
   "source": [
    "Let's focus on Messi now.  We'll first figure out what his player_id is:"
   ]
  },
  {
   "cell_type": "code",
   "execution_count": 32,
   "id": "681041c9",
   "metadata": {},
   "outputs": [],
   "source": [
    "messi_id_df = players_df[players_df['player_name'].str.findall(r'.+Messi').map(bool)]"
   ]
  },
  {
   "cell_type": "code",
   "execution_count": 33,
   "id": "d564c743",
   "metadata": {},
   "outputs": [
    {
     "data": {
      "text/plain": [
       "30981"
      ]
     },
     "execution_count": 33,
     "metadata": {},
     "output_type": "execute_result"
    }
   ],
   "source": [
    "messi_id = messi_id_df.index[0]\n",
    "messi_id"
   ]
  },
  {
   "cell_type": "markdown",
   "id": "e7af3675",
   "metadata": {},
   "source": [
    "Now we can find how many of the matches he played in."
   ]
  },
  {
   "cell_type": "code",
   "execution_count": 34,
   "id": "7a22af15",
   "metadata": {},
   "outputs": [
    {
     "data": {
      "text/plain": [
       "False    21149\n",
       "True       225\n",
       "dtype: int64"
      ]
     },
     "execution_count": 34,
     "metadata": {},
     "output_type": "execute_result"
    }
   ],
   "source": [
    "matches_df.apply(lambda x:x==messi_id).apply(any, axis=1).value_counts()"
   ]
  },
  {
   "cell_type": "markdown",
   "id": "33cfb596",
   "metadata": {},
   "source": [
    "We know which matches he played in, but we also need to figure out which matches his team played when he was on the team and where he didn't play.  First, let's figure out the column index for the home and away players."
   ]
  },
  {
   "cell_type": "code",
   "execution_count": 35,
   "id": "78c32572",
   "metadata": {},
   "outputs": [
    {
     "data": {
      "text/plain": [
       "Index(['season', 'date', 'home_team_api_id', 'away_team_api_id',\n",
       "       'home_team_goal', 'away_team_goal', 'home_player_1', 'home_player_2',\n",
       "       'home_player_3', 'home_player_4', 'home_player_5', 'home_player_6',\n",
       "       'home_player_7', 'home_player_8', 'home_player_9', 'home_player_10',\n",
       "       'home_player_11', 'away_player_1', 'away_player_2', 'away_player_3',\n",
       "       'away_player_4', 'away_player_5', 'away_player_6', 'away_player_7',\n",
       "       'away_player_8', 'away_player_9', 'away_player_10', 'away_player_11'],\n",
       "      dtype='object')"
      ]
     },
     "execution_count": 35,
     "metadata": {},
     "output_type": "execute_result"
    }
   ],
   "source": [
    "matches_df.columns"
   ]
  },
  {
   "cell_type": "code",
   "execution_count": 36,
   "id": "88be1477",
   "metadata": {},
   "outputs": [],
   "source": [
    "home_cols = []\n",
    "for col in cols_flts:\n",
    "    regexp = re.compile(r'.+player_[^XY]+')\n",
    "    if regexp.search(col):\n",
    "        cols_flts_keep.append(col)    "
   ]
  },
  {
   "cell_type": "code",
   "execution_count": 37,
   "id": "693f403b",
   "metadata": {},
   "outputs": [
    {
     "data": {
      "text/plain": [
       "Index(['home_player_1', 'home_player_2', 'home_player_3', 'home_player_4',\n",
       "       'home_player_5', 'home_player_6', 'home_player_7', 'home_player_8',\n",
       "       'home_player_9', 'home_player_10', 'home_player_11'],\n",
       "      dtype='object')"
      ]
     },
     "execution_count": 37,
     "metadata": {},
     "output_type": "execute_result"
    }
   ],
   "source": [
    "home_team_player_colidx = [i for i in range(6,17)]\n",
    "home_team_player_colidx\n",
    "matches_df.iloc[:,home_team_player_colidx].columns"
   ]
  },
  {
   "cell_type": "code",
   "execution_count": 38,
   "id": "e9efbb53",
   "metadata": {},
   "outputs": [
    {
     "data": {
      "text/plain": [
       "Index(['away_player_1', 'away_player_2', 'away_player_3', 'away_player_4',\n",
       "       'away_player_5', 'away_player_6', 'away_player_7', 'away_player_8',\n",
       "       'away_player_9', 'away_player_10', 'away_player_11'],\n",
       "      dtype='object')"
      ]
     },
     "execution_count": 38,
     "metadata": {},
     "output_type": "execute_result"
    }
   ],
   "source": [
    "away_team_player_colidx = [i for i in range(17,len(matches_df.columns))]\n",
    "away_team_player_colidx\n",
    "matches_df.iloc[:,away_team_player_colidx].columns"
   ]
  },
  {
   "cell_type": "markdown",
   "id": "3e957e79",
   "metadata": {},
   "source": [
    "We can use the columns indexes to figure out which team Messi when playing on when he was a home team player."
   ]
  },
  {
   "cell_type": "code",
   "execution_count": 39,
   "id": "0750a267",
   "metadata": {},
   "outputs": [
    {
     "data": {
      "text/plain": [
       "8634"
      ]
     },
     "execution_count": 39,
     "metadata": {},
     "output_type": "execute_result"
    }
   ],
   "source": [
    "messi_home_df = matches_df[matches_df.iloc[:,home_team_player_colidx].apply(lambda x:x==messi_id).apply(any, axis=1)]\n",
    "messi_home_team = matches_df[matches_df.iloc[:,home_team_player_colidx]\n",
    "                             .apply(lambda x:x==messi_id).apply(any, axis=1)]['home_team_api_id']\n",
    "messi_home_team_id = messi_home_team.value_counts().index[0]\n",
    "messi_home_team_id"
   ]
  },
  {
   "cell_type": "markdown",
   "id": "bbcc5399",
   "metadata": {},
   "source": [
    "Likewise for when messi was an away player:"
   ]
  },
  {
   "cell_type": "code",
   "execution_count": 40,
   "id": "855d395a",
   "metadata": {},
   "outputs": [
    {
     "data": {
      "text/plain": [
       "8634"
      ]
     },
     "execution_count": 40,
     "metadata": {},
     "output_type": "execute_result"
    }
   ],
   "source": [
    "messi_away_df = matches_df[matches_df.iloc[:,away_team_player_colidx].apply(lambda x:x==messi_id).apply(any, axis=1)]\n",
    "messi_away_team = matches_df[matches_df.iloc[:,away_team_player_colidx]\n",
    "                             .apply(lambda x:x==messi_id).apply(any, axis=1)]['away_team_api_id']\n",
    "messi_away_team_id = messi_away_team.value_counts().index[0]\n",
    "messi_away_team_id"
   ]
  },
  {
   "cell_type": "markdown",
   "id": "b36c8253",
   "metadata": {},
   "source": [
    "Ok, so he's on the same team in both instances, as we expect.  I know he played for FC Barcelona, but let's now figure out the team that Messi was playing on in all of those matches."
   ]
  },
  {
   "cell_type": "code",
   "execution_count": 41,
   "id": "b20e8f1b",
   "metadata": {},
   "outputs": [],
   "source": [
    "messi_home_matches_idx = list(messi_home_df.index)\n",
    "messi_away_matches_idx = list(messi_away_df.index)\n",
    "messi_matches_idx = messi_home_matches_idx\n",
    "messi_matches_idx.extend(messi_away_matches_idx)\n",
    "messi_matches_idx = list(messi_matches_idx)"
   ]
  },
  {
   "cell_type": "code",
   "execution_count": 42,
   "id": "176ec8d6",
   "metadata": {},
   "outputs": [
    {
     "data": {
      "text/plain": [
       "'FC Barcelona'"
      ]
     },
     "execution_count": 42,
     "metadata": {},
     "output_type": "execute_result"
    }
   ],
   "source": [
    "messi_team_id = messi_home_team_id\n",
    "messi_team = teams_df.loc[messi_team_id].values[0]\n",
    "messi_team"
   ]
  },
  {
   "cell_type": "markdown",
   "id": "73ccfc58",
   "metadata": {},
   "source": [
    "Good-- my expectation agrees with the data.  Let's also figure which seasons Messi played in.  I don't want to include seasons when Messi wasn't even in the team, so we'll only look at seasons when Messi played at least one game."
   ]
  },
  {
   "cell_type": "code",
   "execution_count": 43,
   "id": "309559ed",
   "metadata": {},
   "outputs": [],
   "source": [
    "messi_seasons_ser = matches_df[matches_df.apply(lambda x:x==messi_id).apply(any, axis=1)]['season']"
   ]
  },
  {
   "cell_type": "code",
   "execution_count": 44,
   "id": "12b9a3b3",
   "metadata": {},
   "outputs": [
    {
     "data": {
      "text/plain": [
       "['2010/2011',\n",
       " '2009/2010',\n",
       " '2008/2009',\n",
       " '2014/2015',\n",
       " '2012/2013',\n",
       " '2013/2014',\n",
       " '2015/2016',\n",
       " '2011/2012']"
      ]
     },
     "execution_count": 44,
     "metadata": {},
     "output_type": "execute_result"
    }
   ],
   "source": [
    "messi_seasons = list(set(messi_seasons_ser.values))\n",
    "messi_seasons"
   ]
  },
  {
   "cell_type": "markdown",
   "id": "bc696bbb",
   "metadata": {},
   "source": [
    "Ok, so let's figure out how many of the 225 games Messi played in where he was on the home team vs. the away team.  We'll need this to figure out if he was on the winning team or losing team."
   ]
  },
  {
   "cell_type": "code",
   "execution_count": 45,
   "id": "0728ec52",
   "metadata": {},
   "outputs": [
    {
     "data": {
      "text/plain": [
       "False    21243\n",
       "True       131\n",
       "Name: home_team_api_id, dtype: int64"
      ]
     },
     "execution_count": 45,
     "metadata": {},
     "output_type": "execute_result"
    }
   ],
   "source": [
    "(matches_df['home_team_api_id'].map(lambda x:x==messi_team_id)).value_counts()"
   ]
  },
  {
   "cell_type": "code",
   "execution_count": 46,
   "id": "b57c5225",
   "metadata": {},
   "outputs": [
    {
     "data": {
      "text/plain": [
       "False    21235\n",
       "True       139\n",
       "Name: away_team_api_id, dtype: int64"
      ]
     },
     "execution_count": 46,
     "metadata": {},
     "output_type": "execute_result"
    }
   ],
   "source": [
    "(matches_df['away_team_api_id'].map(lambda x:x==messi_team_id)).value_counts()"
   ]
  },
  {
   "cell_type": "markdown",
   "id": "d77031d1",
   "metadata": {},
   "source": [
    "Now let's determine how many matches in which FC Barcelona played within those seasons where Messi was on the team and active."
   ]
  },
  {
   "cell_type": "code",
   "execution_count": 47,
   "id": "ac1bb5d0",
   "metadata": {},
   "outputs": [
    {
     "name": "stdout",
     "output_type": "stream",
     "text": [
      "(270, 28)\n"
     ]
    },
    {
     "data": {
      "text/html": [
       "<div>\n",
       "<style scoped>\n",
       "    .dataframe tbody tr th:only-of-type {\n",
       "        vertical-align: middle;\n",
       "    }\n",
       "\n",
       "    .dataframe tbody tr th {\n",
       "        vertical-align: top;\n",
       "    }\n",
       "\n",
       "    .dataframe thead th {\n",
       "        text-align: right;\n",
       "    }\n",
       "</style>\n",
       "<table border=\"1\" class=\"dataframe\">\n",
       "  <thead>\n",
       "    <tr style=\"text-align: right;\">\n",
       "      <th></th>\n",
       "      <th>season</th>\n",
       "      <th>date</th>\n",
       "      <th>home_team_api_id</th>\n",
       "      <th>away_team_api_id</th>\n",
       "      <th>home_team_goal</th>\n",
       "      <th>away_team_goal</th>\n",
       "      <th>home_player_1</th>\n",
       "      <th>home_player_2</th>\n",
       "      <th>home_player_3</th>\n",
       "      <th>home_player_4</th>\n",
       "      <th>...</th>\n",
       "      <th>away_player_2</th>\n",
       "      <th>away_player_3</th>\n",
       "      <th>away_player_4</th>\n",
       "      <th>away_player_5</th>\n",
       "      <th>away_player_6</th>\n",
       "      <th>away_player_7</th>\n",
       "      <th>away_player_8</th>\n",
       "      <th>away_player_9</th>\n",
       "      <th>away_player_10</th>\n",
       "      <th>away_player_11</th>\n",
       "    </tr>\n",
       "    <tr>\n",
       "      <th>match_api_id</th>\n",
       "      <th></th>\n",
       "      <th></th>\n",
       "      <th></th>\n",
       "      <th></th>\n",
       "      <th></th>\n",
       "      <th></th>\n",
       "      <th></th>\n",
       "      <th></th>\n",
       "      <th></th>\n",
       "      <th></th>\n",
       "      <th></th>\n",
       "      <th></th>\n",
       "      <th></th>\n",
       "      <th></th>\n",
       "      <th></th>\n",
       "      <th></th>\n",
       "      <th></th>\n",
       "      <th></th>\n",
       "      <th></th>\n",
       "      <th></th>\n",
       "      <th></th>\n",
       "    </tr>\n",
       "  </thead>\n",
       "  <tbody>\n",
       "    <tr>\n",
       "      <th>530240</th>\n",
       "      <td>2008/2009</td>\n",
       "      <td>2008-11-08 00:00:00</td>\n",
       "      <td>8634</td>\n",
       "      <td>10281</td>\n",
       "      <td>6</td>\n",
       "      <td>0</td>\n",
       "      <td>32657.0</td>\n",
       "      <td>33988.0</td>\n",
       "      <td>30740.0</td>\n",
       "      <td>37482.0</td>\n",
       "      <td>...</td>\n",
       "      <td>37597.0</td>\n",
       "      <td>37672.0</td>\n",
       "      <td>38065.0</td>\n",
       "      <td>2790.0</td>\n",
       "      <td>33586.0</td>\n",
       "      <td>33588.0</td>\n",
       "      <td>33820.0</td>\n",
       "      <td>75192.0</td>\n",
       "      <td>33729.0</td>\n",
       "      <td>39142.0</td>\n",
       "    </tr>\n",
       "    <tr>\n",
       "      <th>530329</th>\n",
       "      <td>2008/2009</td>\n",
       "      <td>2008-11-29 00:00:00</td>\n",
       "      <td>8302</td>\n",
       "      <td>8634</td>\n",
       "      <td>0</td>\n",
       "      <td>3</td>\n",
       "      <td>33986.0</td>\n",
       "      <td>70255.0</td>\n",
       "      <td>33812.0</td>\n",
       "      <td>33990.0</td>\n",
       "      <td>...</td>\n",
       "      <td>33988.0</td>\n",
       "      <td>30740.0</td>\n",
       "      <td>37482.0</td>\n",
       "      <td>30661.0</td>\n",
       "      <td>39854.0</td>\n",
       "      <td>36615.0</td>\n",
       "      <td>26146.0</td>\n",
       "      <td>30981.0</td>\n",
       "      <td>33639.0</td>\n",
       "      <td>30626.0</td>\n",
       "    </tr>\n",
       "    <tr>\n",
       "      <th>530337</th>\n",
       "      <td>2008/2009</td>\n",
       "      <td>2008-12-06 00:00:00</td>\n",
       "      <td>8634</td>\n",
       "      <td>10267</td>\n",
       "      <td>4</td>\n",
       "      <td>0</td>\n",
       "      <td>32657.0</td>\n",
       "      <td>33988.0</td>\n",
       "      <td>30740.0</td>\n",
       "      <td>30661.0</td>\n",
       "      <td>...</td>\n",
       "      <td>34007.0</td>\n",
       "      <td>34029.0</td>\n",
       "      <td>30994.0</td>\n",
       "      <td>34575.0</td>\n",
       "      <td>30666.0</td>\n",
       "      <td>38701.0</td>\n",
       "      <td>37824.0</td>\n",
       "      <td>32761.0</td>\n",
       "      <td>41468.0</td>\n",
       "      <td>30909.0</td>\n",
       "    </tr>\n",
       "    <tr>\n",
       "      <th>530343</th>\n",
       "      <td>2008/2009</td>\n",
       "      <td>2008-12-13 00:00:00</td>\n",
       "      <td>8634</td>\n",
       "      <td>8633</td>\n",
       "      <td>2</td>\n",
       "      <td>0</td>\n",
       "      <td>32657.0</td>\n",
       "      <td>33988.0</td>\n",
       "      <td>30740.0</td>\n",
       "      <td>30661.0</td>\n",
       "      <td>...</td>\n",
       "      <td>30658.0</td>\n",
       "      <td>30649.0</td>\n",
       "      <td>34520.0</td>\n",
       "      <td>30962.0</td>\n",
       "      <td>30878.0</td>\n",
       "      <td>32765.0</td>\n",
       "      <td>18814.0</td>\n",
       "      <td>42714.0</td>\n",
       "      <td>25759.0</td>\n",
       "      <td>30655.0</td>\n",
       "    </tr>\n",
       "    <tr>\n",
       "      <th>530358</th>\n",
       "      <td>2008/2009</td>\n",
       "      <td>2008-12-21 00:00:00</td>\n",
       "      <td>10205</td>\n",
       "      <td>8634</td>\n",
       "      <td>1</td>\n",
       "      <td>2</td>\n",
       "      <td>41466.0</td>\n",
       "      <td>33733.0</td>\n",
       "      <td>38458.0</td>\n",
       "      <td>56678.0</td>\n",
       "      <td>...</td>\n",
       "      <td>33988.0</td>\n",
       "      <td>37482.0</td>\n",
       "      <td>30738.0</td>\n",
       "      <td>30661.0</td>\n",
       "      <td>39854.0</td>\n",
       "      <td>154257.0</td>\n",
       "      <td>26146.0</td>\n",
       "      <td>30981.0</td>\n",
       "      <td>33639.0</td>\n",
       "      <td>30626.0</td>\n",
       "    </tr>\n",
       "  </tbody>\n",
       "</table>\n",
       "<p>5 rows × 28 columns</p>\n",
       "</div>"
      ],
      "text/plain": [
       "                 season                 date  home_team_api_id  \\\n",
       "match_api_id                                                     \n",
       "530240        2008/2009  2008-11-08 00:00:00              8634   \n",
       "530329        2008/2009  2008-11-29 00:00:00              8302   \n",
       "530337        2008/2009  2008-12-06 00:00:00              8634   \n",
       "530343        2008/2009  2008-12-13 00:00:00              8634   \n",
       "530358        2008/2009  2008-12-21 00:00:00             10205   \n",
       "\n",
       "              away_team_api_id  home_team_goal  away_team_goal  home_player_1  \\\n",
       "match_api_id                                                                    \n",
       "530240                   10281               6               0        32657.0   \n",
       "530329                    8634               0               3        33986.0   \n",
       "530337                   10267               4               0        32657.0   \n",
       "530343                    8633               2               0        32657.0   \n",
       "530358                    8634               1               2        41466.0   \n",
       "\n",
       "              home_player_2  home_player_3  home_player_4  ...  away_player_2  \\\n",
       "match_api_id                                               ...                  \n",
       "530240              33988.0        30740.0        37482.0  ...        37597.0   \n",
       "530329              70255.0        33812.0        33990.0  ...        33988.0   \n",
       "530337              33988.0        30740.0        30661.0  ...        34007.0   \n",
       "530343              33988.0        30740.0        30661.0  ...        30658.0   \n",
       "530358              33733.0        38458.0        56678.0  ...        33988.0   \n",
       "\n",
       "              away_player_3  away_player_4  away_player_5  away_player_6  \\\n",
       "match_api_id                                                               \n",
       "530240              37672.0        38065.0         2790.0        33586.0   \n",
       "530329              30740.0        37482.0        30661.0        39854.0   \n",
       "530337              34029.0        30994.0        34575.0        30666.0   \n",
       "530343              30649.0        34520.0        30962.0        30878.0   \n",
       "530358              37482.0        30738.0        30661.0        39854.0   \n",
       "\n",
       "              away_player_7  away_player_8  away_player_9  away_player_10  \\\n",
       "match_api_id                                                                \n",
       "530240              33588.0        33820.0        75192.0         33729.0   \n",
       "530329              36615.0        26146.0        30981.0         33639.0   \n",
       "530337              38701.0        37824.0        32761.0         41468.0   \n",
       "530343              32765.0        18814.0        42714.0         25759.0   \n",
       "530358             154257.0        26146.0        30981.0         33639.0   \n",
       "\n",
       "              away_player_11  \n",
       "match_api_id                  \n",
       "530240               39142.0  \n",
       "530329               30626.0  \n",
       "530337               30909.0  \n",
       "530343               30655.0  \n",
       "530358               30626.0  \n",
       "\n",
       "[5 rows x 28 columns]"
      ]
     },
     "execution_count": 47,
     "metadata": {},
     "output_type": "execute_result"
    }
   ],
   "source": [
    "messi_team_matches_df = matches_df[(matches_df['season'].map(lambda x:x in messi_seasons)) &\n",
    "           (\n",
    "            (matches_df['home_team_api_id'].map(lambda x:x==messi_team_id)) | \n",
    "            (matches_df['away_team_api_id'].map(lambda x:x==messi_team_id))\n",
    "           )]\n",
    "print(messi_team_matches_df.shape)\n",
    "messi_team_matches_df.head()"
   ]
  },
  {
   "cell_type": "markdown",
   "id": "8d11f41b",
   "metadata": {},
   "source": [
    "FC Barcelona played 270 matches in seasons where Messi played at least one game.  Messi played in 225 of those games.  Let's condense the dataframe slightly and build out a few features to make the calculations easier. "
   ]
  },
  {
   "cell_type": "code",
   "execution_count": 48,
   "id": "f3cc95c9",
   "metadata": {},
   "outputs": [
    {
     "data": {
      "text/plain": [
       "['season',\n",
       " 'home_team_api_id',\n",
       " 'away_team_api_id',\n",
       " 'home_team_goal',\n",
       " 'away_team_goal']"
      ]
     },
     "execution_count": 48,
     "metadata": {},
     "output_type": "execute_result"
    }
   ],
   "source": [
    "cols_keep = list(messi_team_matches_df.columns)\n",
    "cols_keep.pop(1)\n",
    "for _ in range(len(cols_keep)-5):\n",
    "    cols_keep.pop()\n",
    "cols_keep"
   ]
  },
  {
   "cell_type": "code",
   "execution_count": 49,
   "id": "d40e02fe",
   "metadata": {},
   "outputs": [],
   "source": [
    "messi_team_matches_df = messi_team_matches_df.loc[:,cols_keep]\n",
    "messi_team_matches_df.rename(columns={'home_team_api_id':'Home','away_team_api_id':'Away',\n",
    "                                     'home_team_goal':'HomeScore','away_team_goal':'AwayScore'}, inplace=True)"
   ]
  },
  {
   "cell_type": "markdown",
   "id": "0743e9a2",
   "metadata": {},
   "source": [
    "Here's what are matches dataframe looks like, for games when Messi's team was playing:"
   ]
  },
  {
   "cell_type": "code",
   "execution_count": 50,
   "id": "fc4e6318",
   "metadata": {
    "scrolled": true
   },
   "outputs": [
    {
     "data": {
      "text/html": [
       "<div>\n",
       "<style scoped>\n",
       "    .dataframe tbody tr th:only-of-type {\n",
       "        vertical-align: middle;\n",
       "    }\n",
       "\n",
       "    .dataframe tbody tr th {\n",
       "        vertical-align: top;\n",
       "    }\n",
       "\n",
       "    .dataframe thead th {\n",
       "        text-align: right;\n",
       "    }\n",
       "</style>\n",
       "<table border=\"1\" class=\"dataframe\">\n",
       "  <thead>\n",
       "    <tr style=\"text-align: right;\">\n",
       "      <th></th>\n",
       "      <th>season</th>\n",
       "      <th>Home</th>\n",
       "      <th>Away</th>\n",
       "      <th>HomeScore</th>\n",
       "      <th>AwayScore</th>\n",
       "    </tr>\n",
       "    <tr>\n",
       "      <th>match_api_id</th>\n",
       "      <th></th>\n",
       "      <th></th>\n",
       "      <th></th>\n",
       "      <th></th>\n",
       "      <th></th>\n",
       "    </tr>\n",
       "  </thead>\n",
       "  <tbody>\n",
       "    <tr>\n",
       "      <th>530240</th>\n",
       "      <td>2008/2009</td>\n",
       "      <td>8634</td>\n",
       "      <td>10281</td>\n",
       "      <td>6</td>\n",
       "      <td>0</td>\n",
       "    </tr>\n",
       "    <tr>\n",
       "      <th>530329</th>\n",
       "      <td>2008/2009</td>\n",
       "      <td>8302</td>\n",
       "      <td>8634</td>\n",
       "      <td>0</td>\n",
       "      <td>3</td>\n",
       "    </tr>\n",
       "    <tr>\n",
       "      <th>530337</th>\n",
       "      <td>2008/2009</td>\n",
       "      <td>8634</td>\n",
       "      <td>10267</td>\n",
       "      <td>4</td>\n",
       "      <td>0</td>\n",
       "    </tr>\n",
       "    <tr>\n",
       "      <th>530343</th>\n",
       "      <td>2008/2009</td>\n",
       "      <td>8634</td>\n",
       "      <td>8633</td>\n",
       "      <td>2</td>\n",
       "      <td>0</td>\n",
       "    </tr>\n",
       "    <tr>\n",
       "      <th>530358</th>\n",
       "      <td>2008/2009</td>\n",
       "      <td>10205</td>\n",
       "      <td>8634</td>\n",
       "      <td>1</td>\n",
       "      <td>2</td>\n",
       "    </tr>\n",
       "  </tbody>\n",
       "</table>\n",
       "</div>"
      ],
      "text/plain": [
       "                 season   Home   Away  HomeScore  AwayScore\n",
       "match_api_id                                               \n",
       "530240        2008/2009   8634  10281          6          0\n",
       "530329        2008/2009   8302   8634          0          3\n",
       "530337        2008/2009   8634  10267          4          0\n",
       "530343        2008/2009   8634   8633          2          0\n",
       "530358        2008/2009  10205   8634          1          2"
      ]
     },
     "execution_count": 50,
     "metadata": {},
     "output_type": "execute_result"
    }
   ],
   "source": [
    "messi_team_matches_df.head()"
   ]
  },
  {
   "cell_type": "markdown",
   "id": "9385e3bd",
   "metadata": {},
   "source": [
    "Let's calculate the score for Messi's team, depending on if he is on the away side or the home side. We'll also then determine the Goal Differential (FC Barcelona - Opponent) to create a column that saves the result of the match, and we'll have one last category indicating if Messi started the game:"
   ]
  },
  {
   "cell_type": "code",
   "execution_count": 51,
   "id": "23d85cd6",
   "metadata": {},
   "outputs": [],
   "source": [
    "messi_team_matches_df['Barca'] = messi_team_matches_df['Home'].map(lambda x:'Home' if x == messi_team_id else 'Away')"
   ]
  },
  {
   "cell_type": "code",
   "execution_count": 52,
   "id": "4d61a3c0",
   "metadata": {},
   "outputs": [],
   "source": [
    "messi_team_matches_df['Barca Score'] = messi_team_matches_df['HomeScore']\n",
    "mask = messi_team_matches_df['Barca'] == 'Away'\n",
    "messi_team_matches_df.loc[mask,'Barca Score'] = messi_team_matches_df.loc[mask,'AwayScore']"
   ]
  },
  {
   "cell_type": "code",
   "execution_count": 53,
   "id": "c141e216",
   "metadata": {},
   "outputs": [],
   "source": [
    "messi_team_matches_df['Opp Score'] = messi_team_matches_df['AwayScore']\n",
    "mask = messi_team_matches_df['Barca'] == 'Away'\n",
    "messi_team_matches_df.loc[mask,'Opp Score'] = messi_team_matches_df.loc[mask,'HomeScore']"
   ]
  },
  {
   "cell_type": "code",
   "execution_count": 54,
   "id": "b0bfa11c",
   "metadata": {},
   "outputs": [],
   "source": [
    "messi_team_matches_df['GoalDiff'] = messi_team_matches_df['Barca Score'] - messi_team_matches_df['Opp Score']"
   ]
  },
  {
   "cell_type": "code",
   "execution_count": 55,
   "id": "14dd93b0",
   "metadata": {},
   "outputs": [],
   "source": [
    "messi_team_matches_df['Points'] = messi_team_matches_df['GoalDiff'].map(lambda x:\n",
    "                                                                        3 if x>0 else 1 if x==0 else 0)\n",
    "messi_team_matches_df['Result'] = messi_team_matches_df['GoalDiff'].map(lambda x:\n",
    "                                                                        'Win' if x>0 else 'Draw' if x==0 else 'Loss')"
   ]
  },
  {
   "cell_type": "code",
   "execution_count": 56,
   "id": "d20f0d63",
   "metadata": {},
   "outputs": [],
   "source": [
    "messi_team_matches_df['Messi'] = False\n",
    "messi_team_matches_df.loc[messi_matches_idx,'Messi'] = True"
   ]
  },
  {
   "cell_type": "code",
   "execution_count": 57,
   "id": "051084c8",
   "metadata": {},
   "outputs": [
    {
     "data": {
      "text/html": [
       "<div>\n",
       "<style scoped>\n",
       "    .dataframe tbody tr th:only-of-type {\n",
       "        vertical-align: middle;\n",
       "    }\n",
       "\n",
       "    .dataframe tbody tr th {\n",
       "        vertical-align: top;\n",
       "    }\n",
       "\n",
       "    .dataframe thead th {\n",
       "        text-align: right;\n",
       "    }\n",
       "</style>\n",
       "<table border=\"1\" class=\"dataframe\">\n",
       "  <thead>\n",
       "    <tr style=\"text-align: right;\">\n",
       "      <th></th>\n",
       "      <th>season</th>\n",
       "      <th>Home</th>\n",
       "      <th>Away</th>\n",
       "      <th>HomeScore</th>\n",
       "      <th>AwayScore</th>\n",
       "      <th>Barca</th>\n",
       "      <th>Barca Score</th>\n",
       "      <th>Opp Score</th>\n",
       "      <th>GoalDiff</th>\n",
       "      <th>Points</th>\n",
       "      <th>Result</th>\n",
       "      <th>Messi</th>\n",
       "    </tr>\n",
       "    <tr>\n",
       "      <th>match_api_id</th>\n",
       "      <th></th>\n",
       "      <th></th>\n",
       "      <th></th>\n",
       "      <th></th>\n",
       "      <th></th>\n",
       "      <th></th>\n",
       "      <th></th>\n",
       "      <th></th>\n",
       "      <th></th>\n",
       "      <th></th>\n",
       "      <th></th>\n",
       "      <th></th>\n",
       "    </tr>\n",
       "  </thead>\n",
       "  <tbody>\n",
       "    <tr>\n",
       "      <th>530240</th>\n",
       "      <td>2008/2009</td>\n",
       "      <td>8634</td>\n",
       "      <td>10281</td>\n",
       "      <td>6</td>\n",
       "      <td>0</td>\n",
       "      <td>Home</td>\n",
       "      <td>6</td>\n",
       "      <td>0</td>\n",
       "      <td>6</td>\n",
       "      <td>3</td>\n",
       "      <td>Win</td>\n",
       "      <td>True</td>\n",
       "    </tr>\n",
       "    <tr>\n",
       "      <th>530329</th>\n",
       "      <td>2008/2009</td>\n",
       "      <td>8302</td>\n",
       "      <td>8634</td>\n",
       "      <td>0</td>\n",
       "      <td>3</td>\n",
       "      <td>Away</td>\n",
       "      <td>3</td>\n",
       "      <td>0</td>\n",
       "      <td>3</td>\n",
       "      <td>3</td>\n",
       "      <td>Win</td>\n",
       "      <td>True</td>\n",
       "    </tr>\n",
       "    <tr>\n",
       "      <th>530337</th>\n",
       "      <td>2008/2009</td>\n",
       "      <td>8634</td>\n",
       "      <td>10267</td>\n",
       "      <td>4</td>\n",
       "      <td>0</td>\n",
       "      <td>Home</td>\n",
       "      <td>4</td>\n",
       "      <td>0</td>\n",
       "      <td>4</td>\n",
       "      <td>3</td>\n",
       "      <td>Win</td>\n",
       "      <td>True</td>\n",
       "    </tr>\n",
       "    <tr>\n",
       "      <th>530343</th>\n",
       "      <td>2008/2009</td>\n",
       "      <td>8634</td>\n",
       "      <td>8633</td>\n",
       "      <td>2</td>\n",
       "      <td>0</td>\n",
       "      <td>Home</td>\n",
       "      <td>2</td>\n",
       "      <td>0</td>\n",
       "      <td>2</td>\n",
       "      <td>3</td>\n",
       "      <td>Win</td>\n",
       "      <td>True</td>\n",
       "    </tr>\n",
       "    <tr>\n",
       "      <th>530358</th>\n",
       "      <td>2008/2009</td>\n",
       "      <td>10205</td>\n",
       "      <td>8634</td>\n",
       "      <td>1</td>\n",
       "      <td>2</td>\n",
       "      <td>Away</td>\n",
       "      <td>2</td>\n",
       "      <td>1</td>\n",
       "      <td>1</td>\n",
       "      <td>3</td>\n",
       "      <td>Win</td>\n",
       "      <td>True</td>\n",
       "    </tr>\n",
       "  </tbody>\n",
       "</table>\n",
       "</div>"
      ],
      "text/plain": [
       "                 season   Home   Away  HomeScore  AwayScore Barca  \\\n",
       "match_api_id                                                        \n",
       "530240        2008/2009   8634  10281          6          0  Home   \n",
       "530329        2008/2009   8302   8634          0          3  Away   \n",
       "530337        2008/2009   8634  10267          4          0  Home   \n",
       "530343        2008/2009   8634   8633          2          0  Home   \n",
       "530358        2008/2009  10205   8634          1          2  Away   \n",
       "\n",
       "              Barca Score  Opp Score  GoalDiff  Points Result  Messi  \n",
       "match_api_id                                                          \n",
       "530240                  6          0         6       3    Win   True  \n",
       "530329                  3          0         3       3    Win   True  \n",
       "530337                  4          0         4       3    Win   True  \n",
       "530343                  2          0         2       3    Win   True  \n",
       "530358                  2          1         1       3    Win   True  "
      ]
     },
     "execution_count": 57,
     "metadata": {},
     "output_type": "execute_result"
    }
   ],
   "source": [
    "messi_team_matches_df.head()"
   ]
  },
  {
   "cell_type": "markdown",
   "id": "fb2697a6",
   "metadata": {},
   "source": [
    "For our analysis, we'll be comparing two means for points.  When comparing two population means, we'll need to determine the standard error, which will involve knowing the sample sizes and the standard deviations (ddof=1) for each population.  We'll also need, to determine our two-sample t-test statistic, if the population variances are equal.  If they are, we can use a pooled method.  If not, we can use the unpooled (Welch's).  We will need to determine the df in this case, which is more difficult, but we can rely on statistical packages to assist. Let's first formalize our null and alternative hypotheses:"
   ]
  },
  {
   "cell_type": "markdown",
   "id": "0d4adaf8",
   "metadata": {},
   "source": [
    "#### Null Hypothesis:\n",
    "The average points earned per game by FC Barcelona in seasons in which Messi is active as a starting player and starts the game is higher than the average point earned per game by FC Barcelona in the same seasons but when Messi does not start.\n",
    "\n",
    "**&mu;_starts > &mu;_sits**\n",
    "\n",
    "The alternative hypothesis is that there is not difference in the averages noted above.\n",
    "\n",
    "**&mu;_starts <= &mu;_sits**\n",
    "\n",
    "We'll set our significance level to 5%:\n",
    "\n",
    "&alpha; = 0.05"
   ]
  },
  {
   "cell_type": "code",
   "execution_count": 58,
   "id": "3c1e52cc",
   "metadata": {},
   "outputs": [
    {
     "name": "stdout",
     "output_type": "stream",
     "text": [
      "FC Barcleona games played with Messi starting: 225\n",
      "FC Barcleona games played without Messi starting: 45\n"
     ]
    }
   ],
   "source": [
    "games_wo, games_with = list(messi_team_matches_df.groupby('Messi')['Points'].count().values)\n",
    "print(\"FC Barcleona games played with Messi starting:\",games_with)\n",
    "print(\"FC Barcleona games played without Messi starting:\",games_wo)\n",
    "n1 = games_with\n",
    "n2 = games_wo"
   ]
  },
  {
   "cell_type": "code",
   "execution_count": 59,
   "id": "7b74a941",
   "metadata": {},
   "outputs": [
    {
     "name": "stdout",
     "output_type": "stream",
     "text": [
      "FC Barcleona average points per game with Messi starting: 2.466666666666667\n",
      "FC Barcleona average points per game without Messi starting: 2.4444444444444446\n"
     ]
    }
   ],
   "source": [
    "points_ave_wo, points_ave_with = list(messi_team_matches_df.groupby('Messi')['Points'].mean().values)\n",
    "print(\"FC Barcleona average points per game with Messi starting:\",points_ave_with)\n",
    "print(\"FC Barcleona average points per game without Messi starting:\",points_ave_wo)\n",
    "x1 = points_ave_with\n",
    "x2 = points_ave_wo"
   ]
  },
  {
   "cell_type": "code",
   "execution_count": 60,
   "id": "7abc1b70",
   "metadata": {},
   "outputs": [
    {
     "name": "stdout",
     "output_type": "stream",
     "text": [
      "FC Barcleona points standard deviation with Messi starting: 1.0264362759428514\n",
      "FC Barcleona points standard deviation without Messi starting: 1.0125475422184012\n"
     ]
    }
   ],
   "source": [
    "points_std_wo, points_std_with = list(messi_team_matches_df.groupby('Messi')['Points'].std(ddof=1).values)\n",
    "print(\"FC Barcleona points standard deviation with Messi starting:\",points_std_with)\n",
    "print(\"FC Barcleona points standard deviation without Messi starting:\",points_std_wo)\n",
    "s1 = points_std_with\n",
    "s2 = points_std_wo"
   ]
  },
  {
   "cell_type": "markdown",
   "id": "fdc4ac90",
   "metadata": {},
   "source": [
    "The standard deviations in points is very similar between these two cases, so we can use the pooled method.  Let's calcualte the standard error."
   ]
  },
  {
   "cell_type": "code",
   "execution_count": 61,
   "id": "45a37f2d",
   "metadata": {},
   "outputs": [
    {
     "data": {
      "text/plain": [
       "1.0241689589050937"
      ]
     },
     "execution_count": 61,
     "metadata": {},
     "output_type": "execute_result"
    }
   ],
   "source": [
    "sp = np.sqrt(\n",
    "    ((n1 - 1) * s1 ** 2 + (n2 - 1) * s2 ** 2) / \n",
    "    (n1 + n2 - 2)\n",
    ")\n",
    "sp"
   ]
  },
  {
   "cell_type": "code",
   "execution_count": 62,
   "id": "af6f5dc1",
   "metadata": {},
   "outputs": [
    {
     "data": {
      "text/plain": [
       "0.16724609064766358"
      ]
     },
     "execution_count": 62,
     "metadata": {},
     "output_type": "execute_result"
    }
   ],
   "source": [
    "pooled_se = sp * np.sqrt(1 / n1 + 1 / n2)\n",
    "pooled_se"
   ]
  },
  {
   "cell_type": "markdown",
   "id": "6c9e2d87",
   "metadata": {},
   "source": [
    "The degrees of freedom is much easier to calculate with the pooled method:"
   ]
  },
  {
   "cell_type": "code",
   "execution_count": 63,
   "id": "4ae7e542",
   "metadata": {},
   "outputs": [
    {
     "data": {
      "text/plain": [
       "268"
      ]
     },
     "execution_count": 63,
     "metadata": {},
     "output_type": "execute_result"
    }
   ],
   "source": [
    "dof = n1 + n2 - 2\n",
    "dof"
   ]
  },
  {
   "cell_type": "code",
   "execution_count": 64,
   "id": "daf0592e",
   "metadata": {},
   "outputs": [
    {
     "data": {
      "text/plain": [
       "0.022222222222222143"
      ]
     },
     "execution_count": 64,
     "metadata": {},
     "output_type": "execute_result"
    }
   ],
   "source": [
    "diff_avepoints = x1 - x2\n",
    "diff_avepoints"
   ]
  },
  {
   "cell_type": "markdown",
   "id": "62639763",
   "metadata": {},
   "source": [
    "Now we can use these stats to determine the t statistic based on the difference in sample means and standard error."
   ]
  },
  {
   "cell_type": "code",
   "execution_count": 65,
   "id": "a4919c3e",
   "metadata": {},
   "outputs": [
    {
     "data": {
      "text/plain": [
       "0.13287140007976375"
      ]
     },
     "execution_count": 65,
     "metadata": {},
     "output_type": "execute_result"
    }
   ],
   "source": [
    "t_stat = diff_avepoints / pooled_se\n",
    "t_stat"
   ]
  },
  {
   "cell_type": "markdown",
   "id": "10572686",
   "metadata": {},
   "source": [
    "Now we'll figure out the p-value and and compare it to alpha.  We are just concerned with one tail as our hypothesis was that FC Barcelona was better (not different) when Messi started vs. when he sat at the start of the game."
   ]
  },
  {
   "cell_type": "code",
   "execution_count": 66,
   "id": "d2937f05",
   "metadata": {},
   "outputs": [
    {
     "data": {
      "text/plain": [
       "'Our p-value is: 4.47197e-01'"
      ]
     },
     "execution_count": 66,
     "metadata": {},
     "output_type": "execute_result"
    }
   ],
   "source": [
    "one_tailed_prob = 1 - scipy.stats.t.cdf(t_stat, dof)\n",
    "\"Our p-value is: {:.5e}\".format(one_tailed_prob)"
   ]
  },
  {
   "cell_type": "markdown",
   "id": "21ed3549",
   "metadata": {},
   "source": [
    "Our alpha was 0.05, but our p-value is much higher, 0.447.  **We have strong evidence, then, to reject the null hypothesis, that Messi makes FC Barcelona a significantly better team when he starts**.  This is somewhat suprrising, but we have to remember that FC Barcelona was one of the best teams in the world at this time, and he was surrounded by a ton of great players.  This investigation doesn't speak to Messi's value-- he may be making a great team even better-- but it also doesn't suggest that FC Barcelona would be a significantly weaker team without him."
   ]
  },
  {
   "cell_type": "markdown",
   "id": "1604b10f",
   "metadata": {},
   "source": [
    "### Question 2: Who are the most and least \"valuable\" players in Europe?\n",
    "\n",
    "Well, again, we can't figure this out exactly.  Our investigation above doesn't rule out Messi being the most valuable person.  But let's at least look at who stands out statistically as most signficantly being associated wtih an increase in the average points their team earns per game when they start, and vice-versa.  We'll use the same steps as we did before, but we'll run through each player to spit out their statistics and then use that library to conduct the analysis.  To limit the number of players we'll run through, we'll only look at players that have played more than 30 games.  Later, we'll also make sure there are at least 30 games on record for the team where the player has not played."
   ]
  },
  {
   "cell_type": "code",
   "execution_count": 76,
   "id": "3fcce0d3",
   "metadata": {},
   "outputs": [],
   "source": [
    "player_ids = list(players_df.index)\n",
    "player_ids_30plusgames = []\n",
    "for player_id in player_ids:\n",
    "    matches = matches_df.apply(lambda x:x==player_id).any(axis=1).sum()\n",
    "    if matches >= 30:\n",
    "        player_ids_30plusgames.append(player_id)"
   ]
  },
  {
   "cell_type": "code",
   "execution_count": 77,
   "id": "90199038",
   "metadata": {},
   "outputs": [
    {
     "data": {
      "text/plain": [
       "4947"
      ]
     },
     "execution_count": 77,
     "metadata": {},
     "output_type": "execute_result"
    }
   ],
   "source": [
    "len(player_ids_30plusgames)"
   ]
  },
  {
   "cell_type": "markdown",
   "id": "f0661704",
   "metadata": {},
   "source": [
    "We went from more than 11,000 players to now closer to 5,000, which is helpful, since we are using some heavy processing methods/functions."
   ]
  },
  {
   "cell_type": "code",
   "execution_count": 78,
   "id": "70ed3ef7",
   "metadata": {},
   "outputs": [],
   "source": [
    "player_results = {}\n",
    "five_perc = int(len(player_ids_30plus)/20)"
   ]
  },
  {
   "cell_type": "code",
   "execution_count": 79,
   "id": "584b5632",
   "metadata": {},
   "outputs": [
    {
     "name": "stdout",
     "output_type": "stream",
     "text": [
      "Completed 5.0%\n",
      "Completed 10.0%\n",
      "Completed 15.0%\n",
      "Completed 20.0%\n",
      "Completed 25.0%\n",
      "Completed 30.0%\n",
      "Completed 35.0%\n",
      "Completed 40.0%\n",
      "Completed 45.0%\n",
      "Completed 50.0%\n",
      "Completed 55.0%\n",
      "Completed 60.0%\n",
      "Completed 65.0%\n",
      "Completed 70.0%\n",
      "Completed 75.0%\n",
      "Completed 80.0%\n",
      "Completed 85.0%\n",
      "Completed 90.0%\n",
      "Completed 95.0%\n",
      "Completed 100.0%\n"
     ]
    }
   ],
   "source": [
    "for i, player_id in enumerate(player_ids_30plus):\n",
    "    if i>0 and i % five_perc == 0:\n",
    "        print(f'Completed {i/five_perc*5}%')\n",
    "    # Make dataframe with matches where the player is on the home team\n",
    "    player_home_df = matches_df[matches_df.iloc[:,home_team_player_colidx].apply(lambda x:x==player_id).apply(any, axis=1)]\n",
    "    # Identify the player's home team id\n",
    "    player_home_team = matches_df[matches_df.iloc[:,home_team_player_colidx]\n",
    "                             .apply(lambda x:x==player_id).apply(any, axis=1)]['home_team_api_id']\n",
    "    player_home_team_ids = list(player_home_team.value_counts().index)\n",
    "    # Make dataframe with matches where the player is on the away team\n",
    "    player_away_df = matches_df[matches_df.iloc[:,away_team_player_colidx].apply(lambda x:x==player_id).apply(any, axis=1)]\n",
    "    # Identify the player's away team id\n",
    "    player_away_team = matches_df[matches_df.iloc[:,away_team_player_colidx]\n",
    "                                 .apply(lambda x:x==player_id).apply(any, axis=1)]['away_team_api_id']\n",
    "    player_away_team_ids = list(player_away_team.value_counts().index)\n",
    "    # Don't include players that have more than one team\n",
    "    if (len(player_home_team_ids) > 1) or (len(player_away_team_ids) > 1):\n",
    "        continue\n",
    "    if len(player_home_team_ids) == 1:\n",
    "        player_home_team_id = player_home_team_ids[0]\n",
    "    if len(player_away_team_ids) == 1:\n",
    "        player_away_team_id = player_away_team_ids[0]\n",
    "    # Don't include players that have only played away or only home games for their team\n",
    "    if len(player_home_team_ids) == 0 or len(player_away_team_ids) == 0:\n",
    "        continue\n",
    "    # Identify the player's core team\n",
    "    player_home_team = teams_df.loc[player_home_team_id].values[0]\n",
    "    player_away_team = teams_df.loc[player_away_team_id].values[0]\n",
    "    if player_home_team != player_away_team:\n",
    "        continue\n",
    "    player_team_id = player_home_team_id\n",
    "    player_team = player_home_team\n",
    "    # Find the indexes of the matches where the player is on the home or away team\n",
    "    player_home_matches_idx = list(player_home_df.index)\n",
    "    player_away_matches_idx = list(player_away_df.index)\n",
    "    player_matches_idx = player_home_matches_idx\n",
    "    player_matches_idx.extend(player_away_matches_idx)\n",
    "    player_matches_idx = list(player_matches_idx)\n",
    "    # Get the list of seasons where the player was playing for a team\n",
    "    player_seasons_series = matches_df[matches_df.apply(lambda x:x==player_id).apply(any, axis=1)]['season']\n",
    "    player_seasons = list(set(player_seasons_series.values))\n",
    "    # Create a dataframe with all of the matches in which the player started games with their core team\n",
    "    player_team_matches_df = matches_df[(matches_df['season'].map(lambda x:x in player_seasons)) &\n",
    "           (\n",
    "            (matches_df['home_team_api_id'].map(lambda x:x==player_team_id)) | \n",
    "            (matches_df['away_team_api_id'].map(lambda x:x==player_team_id))\n",
    "           )]\n",
    "    # Update dataframe with simplified columns\n",
    "    player_team_matches_df = player_team_matches_df.loc[:,cols_keep]\n",
    "    player_team_matches_df.rename(columns={'home_team_api_id':'Home','away_team_api_id':'Away',\n",
    "                                     'home_team_goal':'HomeScore','away_team_goal':'AwayScore'}, inplace=True)\n",
    "    # Add columns for Team status as home or away\n",
    "    player_team_matches_df['Team'] = player_team_matches_df['Home'].map(\n",
    "        lambda x:'Home' if x == player_team_id else 'Away')\n",
    "    # Create columns for the Team's score, depending on if they are home or away\n",
    "    player_team_matches_df['Team Score'] = player_team_matches_df['HomeScore']\n",
    "    mask = player_team_matches_df['Team'] == 'Away'\n",
    "    player_team_matches_df.loc[mask,'Team Score'] = player_team_matches_df.loc[mask,'AwayScore']\n",
    "    # Do the same for the opponent's score\n",
    "    player_team_matches_df['Opp Score'] = player_team_matches_df['AwayScore']\n",
    "    mask = player_team_matches_df['Team'] == 'Away'\n",
    "    player_team_matches_df.loc[mask,'Opp Score'] = player_team_matches_df.loc[mask,'HomeScore']\n",
    "    # Create a category for GoalDiff, to use to determine result and points; create those columns after\n",
    "    player_team_matches_df['GoalDiff'] = player_team_matches_df['Team Score'] - player_team_matches_df['Opp Score']\n",
    "    player_team_matches_df['Points'] = player_team_matches_df['GoalDiff'].map(lambda x:\n",
    "                                                                        3 if x>0 else 1 if x==0 else 0)\n",
    "    player_team_matches_df['Result'] = player_team_matches_df['GoalDiff'].map(lambda x:\n",
    "                                                                        'Win' if x>0 else 'Draw' if x==0 else 'Loss')\n",
    "    # Create category for if the player started the match\n",
    "    player_team_matches_df['player'] = False\n",
    "    player_team_matches_df.loc[player_matches_idx,'player'] = True\n",
    "    # Calculate the number of games played by the player and without the player starting; overlook players who never\n",
    "    # one of their teams games\n",
    "    games = list(player_team_matches_df.groupby('player')['Points'].count().values)\n",
    "    if len(games) == 2:\n",
    "        games_wo = games[0]\n",
    "        games_with = games[1]\n",
    "    else:\n",
    "        continue\n",
    "    # Do the same for the average number of points\n",
    "    points_ave_wo, points_ave_with = list(player_team_matches_df.groupby('player')['Points'].mean().values)\n",
    "    points_std_wo, points_std_with = list(player_team_matches_df.groupby('player')['Points'].std(ddof=1).values)\n",
    "    try:\n",
    "        games_win_wo = player_team_matches_df.groupby(['player','Result'])['Result'].count().to_frame(\n",
    "        ).unstack().droplevel(0,axis=1).loc[False,'Win']\n",
    "    except:\n",
    "        games_win_wo = 0\n",
    "    try:\n",
    "        games_win_with = player_team_matches_df.groupby(['player','Result'])['Result'].count().to_frame(\n",
    "        ).unstack().droplevel(0,axis=1).loc[True,'Win']\n",
    "    except:\n",
    "        games_win_with = 0\n",
    "    player_results[player_id] = {'games_wo':games_wo,'games_with':games_with,\n",
    "                                 'points_ave_wo':points_ave_wo,'points_ave_with':points_ave_with,\n",
    "                                 'points_std_wo':points_std_wo,'points_std_with':points_std_with}"
   ]
  },
  {
   "cell_type": "markdown",
   "id": "dc1e350f",
   "metadata": {},
   "source": [
    "Done!  Finally.  Let's now limit this list to players that have played 30 games at least, and which hvae teams that have at least 30 games without them in the same seasons."
   ]
  },
  {
   "cell_type": "code",
   "execution_count": 109,
   "id": "875e9269",
   "metadata": {},
   "outputs": [
    {
     "data": {
      "text/plain": [
       "1049"
      ]
     },
     "execution_count": 109,
     "metadata": {},
     "output_type": "execute_result"
    }
   ],
   "source": [
    "player_results_30 = {}\n",
    "for player, stats in player_results.items():\n",
    "    if stats['games_wo'] >= 30 and stats['games_with'] >= 30:\n",
    "        player_results_30[player] = stats\n",
    "len(player_results_30)"
   ]
  },
  {
   "cell_type": "markdown",
   "id": "67d1f1c5",
   "metadata": {},
   "source": [
    "We've got just over 1,000 players to consider now.  Let's calculate the p_values.  We will assume pooled t-tests is apporpriate.  Again, we need similar variance, and we need independent samples from something of a normal distribution.  We are at least close in al of these considerations."
   ]
  },
  {
   "cell_type": "code",
   "execution_count": 110,
   "id": "48f0b425",
   "metadata": {},
   "outputs": [],
   "source": [
    "p_values = {}\n",
    "for player, stats in player_results_30.items():\n",
    "    n1 = stats['games_with']\n",
    "    n2 = stats['games_wo']\n",
    "    x1 = stats['points_ave_with']\n",
    "    x2 = stats['points_ave_wo']\n",
    "    s1 = stats['points_std_with']\n",
    "    s2 = stats['points_std_wo']  \n",
    "    sp = np.sqrt(\n",
    "    ((n1 - 1) * s1 ** 2 + (n2 - 1) * s2 ** 2) / \n",
    "    (n1 + n2 - 2)\n",
    "    )\n",
    "    pooled_se = sp * np.sqrt(1 / n1 + 1 / n2)\n",
    "    dof = n1 + n2 - 2\n",
    "    diff_avepoints = x1 - x2\n",
    "    t_stat = diff_avepoints / pooled_se\n",
    "    p_value = 1 - scipy.stats.t.cdf(t_stat, dof)\n",
    "    p_values[player] = p_value"
   ]
  },
  {
   "cell_type": "markdown",
   "id": "55e09682",
   "metadata": {},
   "source": [
    "Now we can save the tope 10 and bottom 10 p_values-- the smallest p_values being the most significant points contributors and the highest being the most significant points detractors."
   ]
  },
  {
   "cell_type": "code",
   "execution_count": 118,
   "id": "5b5d32da",
   "metadata": {},
   "outputs": [],
   "source": [
    "p_values_sorted = sorted(p_values.items(), key=lambda x:x[1])\n",
    "top10 = p_values_sorted[:10]\n",
    "bottom10 = p_values_sorted[-10:]"
   ]
  },
  {
   "cell_type": "markdown",
   "id": "f078bedb",
   "metadata": {},
   "source": [
    "Let's print the results!  We'll list players, their teams, and their teams average poitns haul with and without the player in question."
   ]
  },
  {
   "cell_type": "code",
   "execution_count": 152,
   "id": "288299b1",
   "metadata": {},
   "outputs": [
    {
     "name": "stdout",
     "output_type": "stream",
     "text": [
      "Top Players in Europe (Sort of):\n",
      "\n",
      "1. Leon Osman with Everton \n",
      " Average Points With: 1.722 \n",
      " Average Points Without: 1.185 \n",
      "\n",
      "2. Koke with Atlético Madrid \n",
      " Average Points With: 2.17 \n",
      " Average Points Without: 1.532 \n",
      "\n",
      "3. Antonio Di Natale with Udinese \n",
      " Average Points With: 1.556 \n",
      " Average Points Without: 0.988 \n",
      "\n",
      "4. Loic Perrin with AS Saint-Étienne \n",
      " Average Points With: 1.661 \n",
      " Average Points Without: 1.142 \n",
      "\n",
      "5. Lior Rafaelov with Club Brugge KV \n",
      " Average Points With: 2.322 \n",
      " Average Points Without: 1.632 \n",
      "\n",
      "6. Marco Schoenbaechler with FC Zürich \n",
      " Average Points With: 1.728 \n",
      " Average Points Without: 1.198 \n",
      "\n",
      "7. Paul Paton with Dundee United \n",
      " Average Points With: 1.531 \n",
      " Average Points Without: 0.769 \n",
      "\n",
      "8. Giorgos Galitsios with Sporting Lokeren \n",
      " Average Points With: 1.765 \n",
      " Average Points Without: 1.062 \n",
      "\n",
      "9. Michel Renggli with FC Luzern \n",
      " Average Points With: 1.595 \n",
      " Average Points Without: 0.978 \n",
      "\n",
      "10. Sam Nicholson with Heart of Midlothian \n",
      " Average Points With: 1.718 \n",
      " Average Points Without: 0.871 \n",
      "\n"
     ]
    }
   ],
   "source": [
    "print(\"Top Players in Europe (Sort of):\\n\")\n",
    "for i, (player_id, p) in enumerate(top10):\n",
    "    player_home_df = matches_df[matches_df.iloc[:,home_team_player_colidx].apply(lambda x:x==player_id).apply(any, axis=1)]\n",
    "    player_home_team = matches_df[matches_df.iloc[:,home_team_player_colidx]\n",
    "                             .apply(lambda x:x==player_id).apply(any, axis=1)]['home_team_api_id']\n",
    "    team_id = list(player_home_team.value_counts().index)[0]\n",
    "    team = teams_df.loc[team_id].values[0]\n",
    "    print(f'{i+1}.',players_df.loc[player_id].values[0],'with',team,'\\n',\n",
    "          'Average Points With:',round(player_results[player_id]['points_ave_with'],3),\n",
    "         '\\n Average Points Without:',round(player_results[player_id]['points_ave_wo'],3),'\\n')"
   ]
  },
  {
   "cell_type": "code",
   "execution_count": 154,
   "id": "b111ed34",
   "metadata": {},
   "outputs": [
    {
     "name": "stdout",
     "output_type": "stream",
     "text": [
      "Bottom Players in Europe (Sort of):\n",
      "\n",
      "1. Ferry de Regt with VVV-Venlo \n",
      " Average Points With: 0.371 \n",
      " Average Points Without: 1.028 \n",
      "\n",
      "2. David Meul with Willem II \n",
      " Average Points With: 0.588 \n",
      " Average Points Without: 1.344 \n",
      "\n",
      "3. Holger Badstuber with FC Bayern Munich \n",
      " Average Points With: 2.098 \n",
      " Average Points Without: 2.511 \n",
      "\n",
      "4. Craig Thomson with Heart of Midlothian \n",
      " Average Points With: 1.062 \n",
      " Average Points Without: 1.912 \n",
      "\n",
      "5. Alessandro Del Piero with Juventus \n",
      " Average Points With: 1.426 \n",
      " Average Points Without: 1.987 \n",
      "\n",
      "6. Fraser Kerr with Motherwell \n",
      " Average Points With: 0.875 \n",
      " Average Points Without: 1.694 \n",
      "\n",
      "7. Mario Gaspar with Villarreal CF \n",
      " Average Points With: 1.336 \n",
      " Average Points Without: 1.94 \n",
      "\n",
      "8. Oier with CA Osasuna \n",
      " Average Points With: 0.578 \n",
      " Average Points Without: 1.19 \n",
      "\n",
      "9. Ryan Esson with Inverness Caledonian Thistle \n",
      " Average Points With: 1.08 \n",
      " Average Points Without: 1.611 \n",
      "\n",
      "10. Garry Kenneth with Dundee United \n",
      " Average Points With: 1.3 \n",
      " Average Points Without: 2.044 \n",
      "\n"
     ]
    }
   ],
   "source": [
    "print(\"Bottom Players in Europe (Sort of):\\n\")\n",
    "for i, (player_id, p) in enumerate(bottom10):\n",
    "    player_home_df = matches_df[matches_df.iloc[:,home_team_player_colidx].apply(lambda x:x==player_id).apply(any, axis=1)]\n",
    "    player_home_team = matches_df[matches_df.iloc[:,home_team_player_colidx]\n",
    "                             .apply(lambda x:x==player_id).apply(any, axis=1)]['home_team_api_id']\n",
    "    team_id = list(player_home_team.value_counts().index)[0]\n",
    "    team = teams_df.loc[team_id].values[0]\n",
    "    print(f'{i+1}.',players_df.loc[player_id].values[0],'with',team,'\\n',\n",
    "          'Average Points With:',round(player_results[player_id]['points_ave_with'],3),\n",
    "          '\\n Average Points Without:',round(player_results[player_id]['points_ave_wo'],3),'\\n')"
   ]
  },
  {
   "cell_type": "markdown",
   "id": "3a7730e0",
   "metadata": {},
   "source": [
    "Any suprises?  I'm not surprised about Leon Osman-- he's a solid contribution on both sides of the ball.  Maybe doesn't score the most goals, but I would say subjectively he certainly made his team better.  On the other side, I'm surprised to see Del Piero, but he is on the older side, so maybe he's been getting more playing time than he should out of deference."
   ]
  },
  {
   "cell_type": "code",
   "execution_count": null,
   "id": "8b75289a",
   "metadata": {},
   "outputs": [],
   "source": []
  }
 ],
 "metadata": {
  "kernelspec": {
   "display_name": "Python 3 (ipykernel)",
   "language": "python",
   "name": "python3"
  },
  "language_info": {
   "codemirror_mode": {
    "name": "ipython",
    "version": 3
   },
   "file_extension": ".py",
   "mimetype": "text/x-python",
   "name": "python",
   "nbconvert_exporter": "python",
   "pygments_lexer": "ipython3",
   "version": "3.11.4"
  }
 },
 "nbformat": 4,
 "nbformat_minor": 5
}
